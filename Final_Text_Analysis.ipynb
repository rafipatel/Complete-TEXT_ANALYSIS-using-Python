{
  "nbformat": 4,
  "nbformat_minor": 0,
  "metadata": {
    "colab": {
      "name": "BlackCoffer Assignment text analysis.ipynb",
      "provenance": [],
      "collapsed_sections": []
    },
    "kernelspec": {
      "name": "python3",
      "display_name": "Python 3"
    },
    "language_info": {
      "name": "python"
    }
  },
  "cells": [
    {
      "cell_type": "code",
      "source": [
        "import pandas as pd\n",
        "from nltk.tokenize import RegexpTokenizer , sent_tokenize\n",
        "#from urllib.request import urlopen\n",
        "from bs4 import BeautifulSoup\n",
        "#from fake_useragent import UserAgent\n",
        "import requests\n",
        "import nltk\n",
        "nltk.download('punkt')\n",
        "#import urllib.request,sys,time ,requests"
      ],
      "metadata": {
        "id": "f2jNYcOZlDi_",
        "colab": {
          "base_uri": "https://localhost:8080/"
        },
        "outputId": "b0fbf6d3-aa89-4dd3-9279-efeb8c82136c"
      },
      "execution_count": 112,
      "outputs": [
        {
          "output_type": "stream",
          "name": "stderr",
          "text": [
            "[nltk_data] Downloading package punkt to /root/nltk_data...\n",
            "[nltk_data]   Package punkt is already up-to-date!\n"
          ]
        },
        {
          "output_type": "execute_result",
          "data": {
            "text/plain": [
              "True"
            ]
          },
          "metadata": {},
          "execution_count": 112
        }
      ]
    },
    {
      "cell_type": "code",
      "execution_count": 172,
      "metadata": {
        "colab": {
          "base_uri": "https://localhost:8080/",
          "height": 206
        },
        "id": "Cdrday2U96Mr",
        "outputId": "08614e39-bcfe-49e5-b325-7874acc615cb"
      },
      "outputs": [
        {
          "output_type": "execute_result",
          "data": {
            "text/plain": [
              "   URL_ID                                                URL\n",
              "0     1.0  https://insights.blackcoffer.com/is-telehealth...\n",
              "1     2.0  https://insights.blackcoffer.com/how-telehealt...\n",
              "2     3.0  https://insights.blackcoffer.com/is-telemedici...\n",
              "3     4.0  https://insights.blackcoffer.com/is-telehealth...\n",
              "4     5.0  https://insights.blackcoffer.com/how-people-di..."
            ],
            "text/html": [
              "\n",
              "  <div id=\"df-1d09cab8-c3e3-4228-8506-6ac14a1b5c65\">\n",
              "    <div class=\"colab-df-container\">\n",
              "      <div>\n",
              "<style scoped>\n",
              "    .dataframe tbody tr th:only-of-type {\n",
              "        vertical-align: middle;\n",
              "    }\n",
              "\n",
              "    .dataframe tbody tr th {\n",
              "        vertical-align: top;\n",
              "    }\n",
              "\n",
              "    .dataframe thead th {\n",
              "        text-align: right;\n",
              "    }\n",
              "</style>\n",
              "<table border=\"1\" class=\"dataframe\">\n",
              "  <thead>\n",
              "    <tr style=\"text-align: right;\">\n",
              "      <th></th>\n",
              "      <th>URL_ID</th>\n",
              "      <th>URL</th>\n",
              "    </tr>\n",
              "  </thead>\n",
              "  <tbody>\n",
              "    <tr>\n",
              "      <th>0</th>\n",
              "      <td>1.0</td>\n",
              "      <td>https://insights.blackcoffer.com/is-telehealth...</td>\n",
              "    </tr>\n",
              "    <tr>\n",
              "      <th>1</th>\n",
              "      <td>2.0</td>\n",
              "      <td>https://insights.blackcoffer.com/how-telehealt...</td>\n",
              "    </tr>\n",
              "    <tr>\n",
              "      <th>2</th>\n",
              "      <td>3.0</td>\n",
              "      <td>https://insights.blackcoffer.com/is-telemedici...</td>\n",
              "    </tr>\n",
              "    <tr>\n",
              "      <th>3</th>\n",
              "      <td>4.0</td>\n",
              "      <td>https://insights.blackcoffer.com/is-telehealth...</td>\n",
              "    </tr>\n",
              "    <tr>\n",
              "      <th>4</th>\n",
              "      <td>5.0</td>\n",
              "      <td>https://insights.blackcoffer.com/how-people-di...</td>\n",
              "    </tr>\n",
              "  </tbody>\n",
              "</table>\n",
              "</div>\n",
              "      <button class=\"colab-df-convert\" onclick=\"convertToInteractive('df-1d09cab8-c3e3-4228-8506-6ac14a1b5c65')\"\n",
              "              title=\"Convert this dataframe to an interactive table.\"\n",
              "              style=\"display:none;\">\n",
              "        \n",
              "  <svg xmlns=\"http://www.w3.org/2000/svg\" height=\"24px\"viewBox=\"0 0 24 24\"\n",
              "       width=\"24px\">\n",
              "    <path d=\"M0 0h24v24H0V0z\" fill=\"none\"/>\n",
              "    <path d=\"M18.56 5.44l.94 2.06.94-2.06 2.06-.94-2.06-.94-.94-2.06-.94 2.06-2.06.94zm-11 1L8.5 8.5l.94-2.06 2.06-.94-2.06-.94L8.5 2.5l-.94 2.06-2.06.94zm10 10l.94 2.06.94-2.06 2.06-.94-2.06-.94-.94-2.06-.94 2.06-2.06.94z\"/><path d=\"M17.41 7.96l-1.37-1.37c-.4-.4-.92-.59-1.43-.59-.52 0-1.04.2-1.43.59L10.3 9.45l-7.72 7.72c-.78.78-.78 2.05 0 2.83L4 21.41c.39.39.9.59 1.41.59.51 0 1.02-.2 1.41-.59l7.78-7.78 2.81-2.81c.8-.78.8-2.07 0-2.86zM5.41 20L4 18.59l7.72-7.72 1.47 1.35L5.41 20z\"/>\n",
              "  </svg>\n",
              "      </button>\n",
              "      \n",
              "  <style>\n",
              "    .colab-df-container {\n",
              "      display:flex;\n",
              "      flex-wrap:wrap;\n",
              "      gap: 12px;\n",
              "    }\n",
              "\n",
              "    .colab-df-convert {\n",
              "      background-color: #E8F0FE;\n",
              "      border: none;\n",
              "      border-radius: 50%;\n",
              "      cursor: pointer;\n",
              "      display: none;\n",
              "      fill: #1967D2;\n",
              "      height: 32px;\n",
              "      padding: 0 0 0 0;\n",
              "      width: 32px;\n",
              "    }\n",
              "\n",
              "    .colab-df-convert:hover {\n",
              "      background-color: #E2EBFA;\n",
              "      box-shadow: 0px 1px 2px rgba(60, 64, 67, 0.3), 0px 1px 3px 1px rgba(60, 64, 67, 0.15);\n",
              "      fill: #174EA6;\n",
              "    }\n",
              "\n",
              "    [theme=dark] .colab-df-convert {\n",
              "      background-color: #3B4455;\n",
              "      fill: #D2E3FC;\n",
              "    }\n",
              "\n",
              "    [theme=dark] .colab-df-convert:hover {\n",
              "      background-color: #434B5C;\n",
              "      box-shadow: 0px 1px 3px 1px rgba(0, 0, 0, 0.15);\n",
              "      filter: drop-shadow(0px 1px 2px rgba(0, 0, 0, 0.3));\n",
              "      fill: #FFFFFF;\n",
              "    }\n",
              "  </style>\n",
              "\n",
              "      <script>\n",
              "        const buttonEl =\n",
              "          document.querySelector('#df-1d09cab8-c3e3-4228-8506-6ac14a1b5c65 button.colab-df-convert');\n",
              "        buttonEl.style.display =\n",
              "          google.colab.kernel.accessAllowed ? 'block' : 'none';\n",
              "\n",
              "        async function convertToInteractive(key) {\n",
              "          const element = document.querySelector('#df-1d09cab8-c3e3-4228-8506-6ac14a1b5c65');\n",
              "          const dataTable =\n",
              "            await google.colab.kernel.invokeFunction('convertToInteractive',\n",
              "                                                     [key], {});\n",
              "          if (!dataTable) return;\n",
              "\n",
              "          const docLinkHtml = 'Like what you see? Visit the ' +\n",
              "            '<a target=\"_blank\" href=https://colab.research.google.com/notebooks/data_table.ipynb>data table notebook</a>'\n",
              "            + ' to learn more about interactive tables.';\n",
              "          element.innerHTML = '';\n",
              "          dataTable['output_type'] = 'display_data';\n",
              "          await google.colab.output.renderOutput(dataTable, element);\n",
              "          const docLink = document.createElement('div');\n",
              "          docLink.innerHTML = docLinkHtml;\n",
              "          element.appendChild(docLink);\n",
              "        }\n",
              "      </script>\n",
              "    </div>\n",
              "  </div>\n",
              "  "
            ]
          },
          "metadata": {},
          "execution_count": 172
        }
      ],
      "source": [
        "df = pd.read_excel('/content/Input.xlsx')\n",
        "df.head()"
      ]
    },
    {
      "cell_type": "code",
      "source": [
        "a = df['URL'][10]\n",
        "#b = a[a.index('.com')]\n",
        "b = a[a.index('.com') + 5 : -1 ]\n",
        "#a\n",
        "b"
      ],
      "metadata": {
        "id": "iF8k0Uje-LeZ",
        "colab": {
          "base_uri": "https://localhost:8080/",
          "height": 36
        },
        "outputId": "01b8c477-4793-4155-efc3-8da408d43765"
      },
      "execution_count": 114,
      "outputs": [
        {
          "output_type": "execute_result",
          "data": {
            "text/plain": [
              "'how-does-metaverse-work-in-the-financial-sector'"
            ],
            "application/vnd.google.colaboratory.intrinsic+json": {
              "type": "string"
            }
          },
          "metadata": {},
          "execution_count": 114
        }
      ]
    },
    {
      "cell_type": "code",
      "source": [
        "#Extracting required text to List\n",
        "df = pd.read_excel(\"/content/Input.xlsx\")\n",
        "\n",
        "def article_names(url):\n",
        "  all_titles = []\n",
        "  for i in range(len(url)):\n",
        "    k = url[i]\n",
        "    cleaned_title = k[k.index('.com/') + 5 :-1].replace('-',' ')\n",
        "    all_titles.append(cleaned_title)\n",
        "\n",
        "  return all_titles\n",
        "\n",
        "url = df[\"URL\"]\n",
        "url_title = article_names(url)\n",
        "url_title[1:10]"
      ],
      "metadata": {
        "colab": {
          "base_uri": "https://localhost:8080/"
        },
        "id": "_pbTe_QT-LiN",
        "outputId": "9236e541-d45e-4783-c219-f92d8f0f28fe"
      },
      "execution_count": 115,
      "outputs": [
        {
          "output_type": "execute_result",
          "data": {
            "text/plain": [
              "['how telehealth and telemedicine helping people to fight against covid 19 2',\n",
              " 'is telemedicine effective in treating patients',\n",
              " 'is telehealth the future of healthcare 2',\n",
              " 'how people diverted to telehealth services and telemedicine',\n",
              " 'the future of telehealth services',\n",
              " 'how telehealth and telemedicine helping people to fight against covid 19',\n",
              " 'how does metaverse work in the financial sector 2',\n",
              " 'the impact of the metaverse on financial services',\n",
              " 'how metaverse and vr can reform work culture']"
            ]
          },
          "metadata": {},
          "execution_count": 115
        }
      ]
    },
    {
      "cell_type": "code",
      "source": [
        "url[1]"
      ],
      "metadata": {
        "colab": {
          "base_uri": "https://localhost:8080/",
          "height": 53
        },
        "id": "RifMNPJOQvs-",
        "outputId": "bebbc953-997a-463d-8070-11acd0b13eaa"
      },
      "execution_count": 116,
      "outputs": [
        {
          "output_type": "execute_result",
          "data": {
            "text/plain": [
              "'https://insights.blackcoffer.com/how-telehealth-and-telemedicine-helping-people-to-fight-against-covid-19-2/'"
            ],
            "application/vnd.google.colaboratory.intrinsic+json": {
              "type": "string"
            }
          },
          "metadata": {},
          "execution_count": 116
        }
      ]
    },
    {
      "cell_type": "code",
      "source": [
        "url = 'https://insights.blackcoffer.com/how-does-metaverse-work-in-the-financial-sector/'\n",
        "web = requests.get(url, headers= {'User-Agent':'XY'})\n",
        "BS = BeautifulSoup(web.text)\n",
        "#To get title from url\n",
        "article_title = BS.find(\"h1\", attrs={'class':'entry-title'}).get_text()\n",
        "article_text = BS.find(\"div\",attrs={'class':'td-post-content'}).get_text()\n",
        "article_text\n"
      ],
      "metadata": {
        "colab": {
          "base_uri": "https://localhost:8080/",
          "height": 244
        },
        "id": "omq1L43F-LmY",
        "outputId": "505cd2f4-003b-4734-928e-df204f4413d7"
      },
      "execution_count": 117,
      "outputs": [
        {
          "output_type": "execute_result",
          "data": {
            "text/plain": [
              "'\\nHIGHLIGHTS\\nWhat is Metaverse?Why transactions are booming in Metaverse?Is De-Fi the next Bank?Will there be a crypto future in FD’s?Will Crypto ETF’s give rise to a new market segment?How will DAO’s be the killer for Hedge Funds and Corporate Structure in Metaverse?From metaverse and fintech to Finverse?The Money in Metaverse is Financing in itMortgaging in Metaverse- a new lending system?\\n“The success of building and scaling in the metaverse is dependent on having a robust and flexible financial ecosystem that will allow users to seamlessly connect between the physical and virtual worlds.”\\nWhat exactly is Metaverse?\\nMetaverse is one of the hottest topics. Its synchronization with finance and tech makes it a crucial and dominating upcoming field. Meta-Verse means “beyond virtual experience”. So, the proliferation of the Metaverse is taken into consideration as a subsequent unstoppable improvement in tech, as tens of thousands and thousands of greenbacks are being injected into the digital studies and infrastructure, and steady incentives for innovation and opposition within the market. The meta-universe is a creation of new-age digital companies, wherein there are matters much like what we’ve within the normal companies, a well-functioning economy, and locations wherein we will visit speak with others. This is a shared digital international company wherein you could purchase and promote land, buildings, avatars, or even names, generally the usage of virtual currency. In this global universe, customers can buy and get admission to virtual merchandise on any virtual platform of their choice. Today, the Apple App Store or Google Play is the nearest digital platform to us, wherein you could purchase numerous virtual merchandise and use them on more than one structure.\\n\\xa0To create Metaverse offerings that clients can accept as true and which line up with their ideals, corporations need to use it wisely, analyzing anticipated commercial enterprise effects at the same time as coping with its environmental impact. This needs to encompass every degree of its rollout, from method and layout to engineering and implementation.\\nIt’s far believed that monetary facts control and monetary transaction control that in shape actual existence supplied with the aid of using monetary era answers may be the maximum critical meta-universe, making meta-universe as critical as the actual existence\\nBut now no longer everybody is so assured that the metaverse and virtual property will evolve to the factor wherein fintech corporations will want to manipulate, promote, or in any other case manipulate them.\\nWhy transactions are booming in Metaverse?\\nWhile the innovation fans, gaming structures, and social media are busy speaking about the development in the Metaverse, increasingly different game enthusiasts are taking note of different virtual opportunities and are keen to locate new approaches to make cash and promote goods in the digital economy. In only some weeks, Metaverse has now no longer most effective end up the brand new preferred of big era corporations, however additionally the brand new preferred of the funding industry. Metaverse is now seeing a boom in big-era corporations which indeed is creating a brand value for their company.\\nAs we can see from the data below, the cryptocurrency value has increased more than 5x, 10x, and some even 100x. As per Forbes data, the price of virtual lands has increased more than 700%. As virtual real estates sales are skyrocketing, Sandbox is the largest virtual world in terms of transactions volumes, with roughly around 65,000 transactions, leading to virtual land totaling $350 million in 2021. Decentraland became the second-largest virtual world seeing 21,000 real estate transactions worth $110 million in 2021. NFT world an online open NFT marketplace portal has also seen a tremendous amount of gross transaction in the year 2021.\\n\\nIs DeFi the next Bank?\\nThe idea of digitalized banks changed the ecosystem of the current finance system, showing the orthodoxies of the current banking system. “Defi will rule the metaverse”- which will end the lagging banking system. As the day-by-day transaction of Bitcoin has crossed over $3 Trillion last year, it has already crossed the transaction rates of two major credit card players, and hope for crypto believers is that it will surely overcome the other major players within the next 5 years.\\n\\nWill there be a crypto future in FDs?\\nAs Indians love fixed deposits(FD), Vauld (a crypto exchange) initiated and created the most lovable thing for Indians but in a cryptocurrency called “Crypto FDs”. Entire Indian market as well as other foreign crypto markets amazed by this innovation. The rate of interest was far better than the traditional banks. So this created a movement for people to invest more in cryptos.\\n\\n\\nWill Crypto ETFs give rise to a new market segment?\\nETF, a single or basket of security started trading launched in 1993 in the US and this also created an initiative among the Exchanges to create crypto ETF.\\n\\n\\nThese are some of the ETFs which are traded excessively. This has led to another crypto market segmentation in Metaverse\\nHow will DAOs be the killer for Hedge Funds and Corporate Structure in the Metaverse?\\nDAOs (Decentralized Autonomous organizations) are organizations that aim to change the centralized structure like the board of directors, chairman, etc. No one person or entity governs them. The rules of governance and operations are codified in smart contracts saved in the blockchain, which means they cannot be changed without a vote of all a DAO’s members. These are not physical organizations but they rather meet on virtual platforms like discords, Reddit, etc. The decision-making power is proportional to the number of tokens a person owns by purchasing it with cryptocurrency. ConstitutionDao raised tens of millions of dollars to buy the rare version of the U.S. Constitution and won against Hedge Fund Manager Ken Griffin, which shows the power of DAOs.\\nFrom metaverse and fintech to Finverse?\\nIn the digital companies of the metaverse, the funding by current fortune 500 companies has modified the ideas of the game. It is sort of improbable for banks and different traditional economic foundations to stay aggressive through each one of the cycles that require rapid transformation and innovative arrangements. It moreover looks like it will likely be tough for them to stay aggressive if they don`t make important investments in the latest upcoming virtual assets as soon as possible. Working collectively with fintech and taking advantage of fintech improvements to have a presence on this new-age digital companies may be the fastest change manner to have a sizable presence withinside the meta international.\\nThe Money in Metaverse is Financing in it\\nSupply and demand dynamics are driving people into the meta-economy. Over time, the market for metaverse real estate could evolve in a similar way as the real estate market in the analog world. In time, the virtual real estate market could start seeing services much like in the physical world, including credit, mortgages, and rental agreements. For both virtual worlds, the average investment in land was about $5,300, but prices have grown considerably from an average of $100 per land in January 2021 to $15,000 in December 2021, with rapid growth in the fourth quarter when the Sandbox Alpha was released.\\nMortgaging in Metaverse- a new lending system?\\nAs the need for money arises constantly, mortgaging in the metaverse is a brand new concept. Recently, TerraZero Technologies issued one of the first-ever mortgages in the metaverse, a network of virtual worlds where users can interact, experience entertainment, and trade. The tech firm issued the two-year mortgage with an undisclosed down payment and interest rate for a $45,000 parcel of land in Decentraland, a metaverse with approximately 92,000 parcels, as per TerraZero’s report. The firm followed a traditional real estate mortgage vetting process, self-financed the purchase and today holds the NFT, or non-fungible token to securitize the mortgaged land. This gives rise to a new generation of led transaction systems which can change the future potential outcomes for mortgaging.\\nConclusion\\nMetaverse is one of the greatest tools for common people to make the most money and to step into the world of fame. New opportunities are emerging daily, giving rise to various possible outcomes in the future for finance in Metaverse. As innovation has surged leading to a new age DAO, ETFs, FD’s in cryptocurrency, and mortgaging which in turn gives the finance sector a boost. Metaverse has a lot of potential to bring changes in the lives of billions of people leading to a futuristic concept of decentralization.\\nBlackcoffer Insights 39: Jay Oza, K. J. Somaiya Institute of Engineering and Information Technology\\n'"
            ],
            "application/vnd.google.colaboratory.intrinsic+json": {
              "type": "string"
            }
          },
          "metadata": {},
          "execution_count": 117
        }
      ]
    },
    {
      "cell_type": "code",
      "source": [
        "#Extracting each line and removing whitespaces(lead and trail)\n",
        "lines = (line.strip() for line in article_text.splitlines())\n",
        "\n",
        "#Breaking into text pieces\n",
        "text_pieces = (phrase.strip() for line in lines for phrase in line.split(\"  \"))\n",
        "\n",
        "#Getting article text again with blank lines removed \n",
        "article_text = '\\n'.join(piece for piece in text_pieces if piece)\n",
        "article_text\n",
        "\n",
        "\n"
      ],
      "metadata": {
        "colab": {
          "base_uri": "https://localhost:8080/",
          "height": 244
        },
        "id": "01wdgAReQLWC",
        "outputId": "2fc3deaf-38c0-498e-fdd3-ef4c97cbe35c"
      },
      "execution_count": 118,
      "outputs": [
        {
          "output_type": "execute_result",
          "data": {
            "text/plain": [
              "'HIGHLIGHTS\\nWhat is Metaverse?Why transactions are booming in Metaverse?Is De-Fi the next Bank?Will there be a crypto future in FD’s?Will Crypto ETF’s give rise to a new market segment?How will DAO’s be the killer for Hedge Funds and Corporate Structure in Metaverse?From metaverse and fintech to Finverse?The Money in Metaverse is Financing in itMortgaging in Metaverse- a new lending system?\\n“The success of building and scaling in the metaverse is dependent on having a robust and flexible financial ecosystem that will allow users to seamlessly connect between the physical and virtual worlds.”\\nWhat exactly is Metaverse?\\nMetaverse is one of the hottest topics. Its synchronization with finance and tech makes it a crucial and dominating upcoming field. Meta-Verse means “beyond virtual experience”. So, the proliferation of the Metaverse is taken into consideration as a subsequent unstoppable improvement in tech, as tens of thousands and thousands of greenbacks are being injected into the digital studies and infrastructure, and steady incentives for innovation and opposition within the market. The meta-universe is a creation of new-age digital companies, wherein there are matters much like what we’ve within the normal companies, a well-functioning economy, and locations wherein we will visit speak with others. This is a shared digital international company wherein you could purchase and promote land, buildings, avatars, or even names, generally the usage of virtual currency. In this global universe, customers can buy and get admission to virtual merchandise on any virtual platform of their choice. Today, the Apple App Store or Google Play is the nearest digital platform to us, wherein you could purchase numerous virtual merchandise and use them on more than one structure.\\nTo create Metaverse offerings that clients can accept as true and which line up with their ideals, corporations need to use it wisely, analyzing anticipated commercial enterprise effects at the same time as coping with its environmental impact. This needs to encompass every degree of its rollout, from method and layout to engineering and implementation.\\nIt’s far believed that monetary facts control and monetary transaction control that in shape actual existence supplied with the aid of using monetary era answers may be the maximum critical meta-universe, making meta-universe as critical as the actual existence\\nBut now no longer everybody is so assured that the metaverse and virtual property will evolve to the factor wherein fintech corporations will want to manipulate, promote, or in any other case manipulate them.\\nWhy transactions are booming in Metaverse?\\nWhile the innovation fans, gaming structures, and social media are busy speaking about the development in the Metaverse, increasingly different game enthusiasts are taking note of different virtual opportunities and are keen to locate new approaches to make cash and promote goods in the digital economy. In only some weeks, Metaverse has now no longer most effective end up the brand new preferred of big era corporations, however additionally the brand new preferred of the funding industry. Metaverse is now seeing a boom in big-era corporations which indeed is creating a brand value for their company.\\nAs we can see from the data below, the cryptocurrency value has increased more than 5x, 10x, and some even 100x. As per Forbes data, the price of virtual lands has increased more than 700%. As virtual real estates sales are skyrocketing, Sandbox is the largest virtual world in terms of transactions volumes, with roughly around 65,000 transactions, leading to virtual land totaling $350 million in 2021. Decentraland became the second-largest virtual world seeing 21,000 real estate transactions worth $110 million in 2021. NFT world an online open NFT marketplace portal has also seen a tremendous amount of gross transaction in the year 2021.\\nIs DeFi the next Bank?\\nThe idea of digitalized banks changed the ecosystem of the current finance system, showing the orthodoxies of the current banking system. “Defi will rule the metaverse”- which will end the lagging banking system. As the day-by-day transaction of Bitcoin has crossed over $3 Trillion last year, it has already crossed the transaction rates of two major credit card players, and hope for crypto believers is that it will surely overcome the other major players within the next 5 years.\\nWill there be a crypto future in FDs?\\nAs Indians love fixed deposits(FD), Vauld (a crypto exchange) initiated and created the most lovable thing for Indians but in a cryptocurrency called “Crypto FDs”. Entire Indian market as well as other foreign crypto markets amazed by this innovation. The rate of interest was far better than the traditional banks. So this created a movement for people to invest more in cryptos.\\nWill Crypto ETFs give rise to a new market segment?\\nETF, a single or basket of security started trading launched in 1993 in the US and this also created an initiative among the Exchanges to create crypto ETF.\\nThese are some of the ETFs which are traded excessively. This has led to another crypto market segmentation in Metaverse\\nHow will DAOs be the killer for Hedge Funds and Corporate Structure in the Metaverse?\\nDAOs (Decentralized Autonomous organizations) are organizations that aim to change the centralized structure like the board of directors, chairman, etc. No one person or entity governs them. The rules of governance and operations are codified in smart contracts saved in the blockchain, which means they cannot be changed without a vote of all a DAO’s members. These are not physical organizations but they rather meet on virtual platforms like discords, Reddit, etc. The decision-making power is proportional to the number of tokens a person owns by purchasing it with cryptocurrency. ConstitutionDao raised tens of millions of dollars to buy the rare version of the U.S. Constitution and won against Hedge Fund Manager Ken Griffin, which shows the power of DAOs.\\nFrom metaverse and fintech to Finverse?\\nIn the digital companies of the metaverse, the funding by current fortune 500 companies has modified the ideas of the game. It is sort of improbable for banks and different traditional economic foundations to stay aggressive through each one of the cycles that require rapid transformation and innovative arrangements. It moreover looks like it will likely be tough for them to stay aggressive if they don`t make important investments in the latest upcoming virtual assets as soon as possible. Working collectively with fintech and taking advantage of fintech improvements to have a presence on this new-age digital companies may be the fastest change manner to have a sizable presence withinside the meta international.\\nThe Money in Metaverse is Financing in it\\nSupply and demand dynamics are driving people into the meta-economy. Over time, the market for metaverse real estate could evolve in a similar way as the real estate market in the analog world. In time, the virtual real estate market could start seeing services much like in the physical world, including credit, mortgages, and rental agreements. For both virtual worlds, the average investment in land was about $5,300, but prices have grown considerably from an average of $100 per land in January 2021 to $15,000 in December 2021, with rapid growth in the fourth quarter when the Sandbox Alpha was released.\\nMortgaging in Metaverse- a new lending system?\\nAs the need for money arises constantly, mortgaging in the metaverse is a brand new concept. Recently, TerraZero Technologies issued one of the first-ever mortgages in the metaverse, a network of virtual worlds where users can interact, experience entertainment, and trade. The tech firm issued the two-year mortgage with an undisclosed down payment and interest rate for a $45,000 parcel of land in Decentraland, a metaverse with approximately 92,000 parcels, as per TerraZero’s report. The firm followed a traditional real estate mortgage vetting process, self-financed the purchase and today holds the NFT, or non-fungible token to securitize the mortgaged land. This gives rise to a new generation of led transaction systems which can change the future potential outcomes for mortgaging.\\nConclusion\\nMetaverse is one of the greatest tools for common people to make the most money and to step into the world of fame. New opportunities are emerging daily, giving rise to various possible outcomes in the future for finance in Metaverse. As innovation has surged leading to a new age DAO, ETFs, FD’s in cryptocurrency, and mortgaging which in turn gives the finance sector a boost. Metaverse has a lot of potential to bring changes in the lives of billions of people leading to a futuristic concept of decentralization.\\nBlackcoffer Insights 39: Jay Oza, K. J. Somaiya Institute of Engineering and Information Technology'"
            ],
            "application/vnd.google.colaboratory.intrinsic+json": {
              "type": "string"
            }
          },
          "metadata": {},
          "execution_count": 118
        }
      ]
    },
    {
      "cell_type": "code",
      "source": [
        "#opening positive words file and converting to lowercase\n",
        "pos = open('positive-words.txt','r')\n",
        "posiwords = pos.read().lower()\n",
        "posiwords"
      ],
      "metadata": {
        "colab": {
          "base_uri": "https://localhost:8080/",
          "height": 244
        },
        "id": "YCW2tVhEHujm",
        "outputId": "21a23845-7fcf-4431-f354-dcec616e29c9"
      },
      "execution_count": 119,
      "outputs": [
        {
          "output_type": "execute_result",
          "data": {
            "text/plain": [
              "'a+\\nabound\\nabounds\\nabundance\\nabundant\\naccessable\\naccessible\\nacclaim\\nacclaimed\\nacclamation\\naccolade\\naccolades\\naccommodative\\naccomodative\\naccomplish\\naccomplished\\naccomplishment\\naccomplishments\\naccurate\\naccurately\\nachievable\\nachievement\\nachievements\\nachievible\\nacumen\\nadaptable\\nadaptive\\nadequate\\nadjustable\\nadmirable\\nadmirably\\nadmiration\\nadmire\\nadmirer\\nadmiring\\nadmiringly\\nadorable\\nadore\\nadored\\nadorer\\nadoring\\nadoringly\\nadroit\\nadroitly\\nadulate\\nadulation\\nadulatory\\nadvanced\\nadvantage\\nadvantageous\\nadvantageously\\nadvantages\\nadventuresome\\nadventurous\\nadvocate\\nadvocated\\nadvocates\\naffability\\naffable\\naffably\\naffectation\\naffection\\naffectionate\\naffinity\\naffirm\\naffirmation\\naffirmative\\naffluence\\naffluent\\nafford\\naffordable\\naffordably\\nafordable\\nagile\\nagilely\\nagility\\nagreeable\\nagreeableness\\nagreeably\\nall-around\\nalluring\\nalluringly\\naltruistic\\naltruistically\\namaze\\namazed\\namazement\\namazes\\namazing\\namazingly\\nambitious\\nambitiously\\nameliorate\\namenable\\namenity\\namiability\\namiabily\\namiable\\namicability\\namicable\\namicably\\namity\\nample\\namply\\namuse\\namusing\\namusingly\\nangel\\nangelic\\napotheosis\\nappeal\\nappealing\\napplaud\\nappreciable\\nappreciate\\nappreciated\\nappreciates\\nappreciative\\nappreciatively\\nappropriate\\napproval\\napprove\\nardent\\nardently\\nardor\\narticulate\\naspiration\\naspirations\\naspire\\nassurance\\nassurances\\nassure\\nassuredly\\nassuring\\nastonish\\nastonished\\nastonishing\\nastonishingly\\nastonishment\\nastound\\nastounded\\nastounding\\nastoundingly\\nastutely\\nattentive\\nattraction\\nattractive\\nattractively\\nattune\\naudible\\naudibly\\nauspicious\\nauthentic\\nauthoritative\\nautonomous\\navailable\\naver\\navid\\navidly\\naward\\nawarded\\nawards\\nawe\\nawed\\nawesome\\nawesomely\\nawesomeness\\nawestruck\\nawsome\\nbackbone\\nbalanced\\nbargain\\nbeauteous\\nbeautiful\\nbeautifullly\\nbeautifully\\nbeautify\\nbeauty\\nbeckon\\nbeckoned\\nbeckoning\\nbeckons\\nbelievable\\nbelieveable\\nbeloved\\nbenefactor\\nbeneficent\\nbeneficial\\nbeneficially\\nbeneficiary\\nbenefit\\nbenefits\\nbenevolence\\nbenevolent\\nbenifits\\nbest\\nbest-known\\nbest-performing\\nbest-selling\\nbetter\\nbetter-known\\nbetter-than-expected\\nbeutifully\\nblameless\\nbless\\nblessing\\nbliss\\nblissful\\nblissfully\\nblithe\\nblockbuster\\nbloom\\nblossom\\nbolster\\nbonny\\nbonus\\nbonuses\\nboom\\nbooming\\nboost\\nboundless\\nbountiful\\nbrainiest\\nbrainy\\nbrand-new\\nbrave\\nbravery\\nbravo\\nbreakthrough\\nbreakthroughs\\nbreathlessness\\nbreathtaking\\nbreathtakingly\\nbreeze\\nbright\\nbrighten\\nbrighter\\nbrightest\\nbrilliance\\nbrilliances\\nbrilliant\\nbrilliantly\\nbrisk\\nbrotherly\\nbullish\\nbuoyant\\ncajole\\ncalm\\ncalming\\ncalmness\\ncapability\\ncapable\\ncapably\\ncaptivate\\ncaptivating\\ncarefree\\ncashback\\ncashbacks\\ncatchy\\ncelebrate\\ncelebrated\\ncelebration\\ncelebratory\\nchamp\\nchampion\\ncharisma\\ncharismatic\\ncharitable\\ncharm\\ncharming\\ncharmingly\\nchaste\\ncheaper\\ncheapest\\ncheer\\ncheerful\\ncheery\\ncherish\\ncherished\\ncherub\\nchic\\nchivalrous\\nchivalry\\ncivility\\ncivilize\\nclarity\\nclassic\\nclassy\\nclean\\ncleaner\\ncleanest\\ncleanliness\\ncleanly\\nclear\\nclear-cut\\ncleared\\nclearer\\nclearly\\nclears\\nclever\\ncleverly\\ncohere\\ncoherence\\ncoherent\\ncohesive\\ncolorful\\ncomely\\ncomfort\\ncomfortable\\ncomfortably\\ncomforting\\ncomfy\\ncommend\\ncommendable\\ncommendably\\ncommitment\\ncommodious\\ncompact\\ncompactly\\ncompassion\\ncompassionate\\ncompatible\\ncompetitive\\ncomplement\\ncomplementary\\ncomplemented\\ncomplements\\ncompliant\\ncompliment\\ncomplimentary\\ncomprehensive\\nconciliate\\nconciliatory\\nconcise\\nconfidence\\nconfident\\ncongenial\\ncongratulate\\ncongratulation\\ncongratulations\\ncongratulatory\\nconscientious\\nconsiderate\\nconsistent\\nconsistently\\nconstructive\\nconsummate\\ncontentment\\ncontinuity\\ncontrasty\\ncontribution\\nconvenience\\nconvenient\\nconveniently\\nconvience\\nconvienient\\nconvient\\nconvincing\\nconvincingly\\ncool\\ncoolest\\ncooperative\\ncooperatively\\ncornerstone\\ncorrect\\ncorrectly\\ncost-effective\\ncost-saving\\ncounter-attack\\ncounter-attacks\\ncourage\\ncourageous\\ncourageously\\ncourageousness\\ncourteous\\ncourtly\\ncovenant\\ncozy\\ncreative\\ncredence\\ncredible\\ncrisp\\ncrisper\\ncure\\ncure-all\\ncushy\\ncute\\ncuteness\\ndanke\\ndanken\\ndaring\\ndaringly\\ndarling\\ndashing\\ndauntless\\ndawn\\ndazzle\\ndazzled\\ndazzling\\ndead-cheap\\ndead-on\\ndecency\\ndecent\\ndecisive\\ndecisiveness\\ndedicated\\ndefeat\\ndefeated\\ndefeating\\ndefeats\\ndefender\\ndeference\\ndeft\\ndeginified\\ndelectable\\ndelicacy\\ndelicate\\ndelicious\\ndelight\\ndelighted\\ndelightful\\ndelightfully\\ndelightfulness\\ndependable\\ndependably\\ndeservedly\\ndeserving\\ndesirable\\ndesiring\\ndesirous\\ndestiny\\ndetachable\\ndevout\\ndexterous\\ndexterously\\ndextrous\\ndignified\\ndignify\\ndignity\\ndiligence\\ndiligent\\ndiligently\\ndiplomatic\\ndirt-cheap\\ndistinction\\ndistinctive\\ndistinguished\\ndiversified\\ndivine\\ndivinely\\ndominate\\ndominated\\ndominates\\ndote\\ndotingly\\ndoubtless\\ndreamland\\ndumbfounded\\ndumbfounding\\ndummy-proof\\ndurable\\ndynamic\\neager\\neagerly\\neagerness\\nearnest\\nearnestly\\nearnestness\\nease\\neased\\neases\\neasier\\neasiest\\neasiness\\neasing\\neasy\\neasy-to-use\\neasygoing\\nebullience\\nebullient\\nebulliently\\necenomical\\neconomical\\necstasies\\necstasy\\necstatic\\necstatically\\nedify\\neducated\\neffective\\neffectively\\neffectiveness\\neffectual\\nefficacious\\nefficient\\nefficiently\\neffortless\\neffortlessly\\neffusion\\neffusive\\neffusively\\neffusiveness\\nelan\\nelate\\nelated\\nelatedly\\nelation\\nelectrify\\nelegance\\nelegant\\nelegantly\\nelevate\\nelite\\neloquence\\neloquent\\neloquently\\nembolden\\neminence\\neminent\\nempathize\\nempathy\\nempower\\nempowerment\\nenchant\\nenchanted\\nenchanting\\nenchantingly\\nencourage\\nencouragement\\nencouraging\\nencouragingly\\nendear\\nendearing\\nendorse\\nendorsed\\nendorsement\\nendorses\\nendorsing\\nenergetic\\nenergize\\nenergy-efficient\\nenergy-saving\\nengaging\\nengrossing\\nenhance\\nenhanced\\nenhancement\\nenhances\\nenjoy\\nenjoyable\\nenjoyably\\nenjoyed\\nenjoying\\nenjoyment\\nenjoys\\nenlighten\\nenlightenment\\nenliven\\nennoble\\nenough\\nenrapt\\nenrapture\\nenraptured\\nenrich\\nenrichment\\nenterprising\\nentertain\\nentertaining\\nentertains\\nenthral\\nenthrall\\nenthralled\\nenthuse\\nenthusiasm\\nenthusiast\\nenthusiastic\\nenthusiastically\\nentice\\nenticed\\nenticing\\nenticingly\\nentranced\\nentrancing\\nentrust\\nenviable\\nenviably\\nenvious\\nenviously\\nenviousness\\nenvy\\nequitable\\nergonomical\\nerr-free\\nerudite\\nethical\\neulogize\\neuphoria\\neuphoric\\neuphorically\\nevaluative\\nevenly\\neventful\\neverlasting\\nevocative\\nexalt\\nexaltation\\nexalted\\nexaltedly\\nexalting\\nexaltingly\\nexamplar\\nexamplary\\nexcallent\\nexceed\\nexceeded\\nexceeding\\nexceedingly\\nexceeds\\nexcel\\nexceled\\nexcelent\\nexcellant\\nexcelled\\nexcellence\\nexcellency\\nexcellent\\nexcellently\\nexcels\\nexceptional\\nexceptionally\\nexcite\\nexcited\\nexcitedly\\nexcitedness\\nexcitement\\nexcites\\nexciting\\nexcitingly\\nexellent\\nexemplar\\nexemplary\\nexhilarate\\nexhilarating\\nexhilaratingly\\nexhilaration\\nexonerate\\nexpansive\\nexpeditiously\\nexpertly\\nexquisite\\nexquisitely\\nextol\\nextoll\\nextraordinarily\\nextraordinary\\nexuberance\\nexuberant\\nexuberantly\\nexult\\nexultant\\nexultation\\nexultingly\\neye-catch\\neye-catching\\neyecatch\\neyecatching\\nfabulous\\nfabulously\\nfacilitate\\nfair\\nfairly\\nfairness\\nfaith\\nfaithful\\nfaithfully\\nfaithfulness\\nfame\\nfamed\\nfamous\\nfamously\\nfancier\\nfancinating\\nfancy\\nfanfare\\nfans\\nfantastic\\nfantastically\\nfascinate\\nfascinating\\nfascinatingly\\nfascination\\nfashionable\\nfashionably\\nfast\\nfast-growing\\nfast-paced\\nfaster\\nfastest\\nfastest-growing\\nfaultless\\nfav\\nfave\\nfavor\\nfavorable\\nfavored\\nfavorite\\nfavorited\\nfavour\\nfearless\\nfearlessly\\nfeasible\\nfeasibly\\nfeat\\nfeature-rich\\nfecilitous\\nfeisty\\nfelicitate\\nfelicitous\\nfelicity\\nfertile\\nfervent\\nfervently\\nfervid\\nfervidly\\nfervor\\nfestive\\nfidelity\\nfiery\\nfine\\nfine-looking\\nfinely\\nfiner\\nfinest\\nfirmer\\nfirst-class\\nfirst-in-class\\nfirst-rate\\nflashy\\nflatter\\nflattering\\nflatteringly\\nflawless\\nflawlessly\\nflexibility\\nflexible\\nflourish\\nflourishing\\nfluent\\nflutter\\nfond\\nfondly\\nfondness\\nfoolproof\\nforemost\\nforesight\\nformidable\\nfortitude\\nfortuitous\\nfortuitously\\nfortunate\\nfortunately\\nfortune\\nfragrant\\nfree\\nfreed\\nfreedom\\nfreedoms\\nfresh\\nfresher\\nfreshest\\nfriendliness\\nfriendly\\nfrolic\\nfrugal\\nfruitful\\nftw\\nfulfillment\\nfun\\nfuturestic\\nfuturistic\\ngaiety\\ngaily\\ngain\\ngained\\ngainful\\ngainfully\\ngaining\\ngains\\ngallant\\ngallantly\\ngalore\\ngeekier\\ngeeky\\ngem\\ngems\\ngenerosity\\ngenerous\\ngenerously\\ngenial\\ngenius\\ngentle\\ngentlest\\ngenuine\\ngifted\\nglad\\ngladden\\ngladly\\ngladness\\nglamorous\\nglee\\ngleeful\\ngleefully\\nglimmer\\nglimmering\\nglisten\\nglistening\\nglitter\\nglitz\\nglorify\\nglorious\\ngloriously\\nglory\\nglow\\nglowing\\nglowingly\\ngod-given\\ngod-send\\ngodlike\\ngodsend\\ngold\\ngolden\\ngood\\ngoodly\\ngoodness\\ngoodwill\\ngoood\\ngooood\\ngorgeous\\ngorgeously\\ngrace\\ngraceful\\ngracefully\\ngracious\\ngraciously\\ngraciousness\\ngrand\\ngrandeur\\ngrateful\\ngratefully\\ngratification\\ngratified\\ngratifies\\ngratify\\ngratifying\\ngratifyingly\\ngratitude\\ngreat\\ngreatest\\ngreatness\\ngrin\\ngroundbreaking\\nguarantee\\nguidance\\nguiltless\\ngumption\\ngush\\ngusto\\ngutsy\\nhail\\nhalcyon\\nhale\\nhallmark\\nhallmarks\\nhallowed\\nhandier\\nhandily\\nhands-down\\nhandsome\\nhandsomely\\nhandy\\nhappier\\nhappily\\nhappiness\\nhappy\\nhard-working\\nhardier\\nhardy\\nharmless\\nharmonious\\nharmoniously\\nharmonize\\nharmony\\nheadway\\nheal\\nhealthful\\nhealthy\\nhearten\\nheartening\\nheartfelt\\nheartily\\nheartwarming\\nheaven\\nheavenly\\nhelped\\nhelpful\\nhelping\\nhero\\nheroic\\nheroically\\nheroine\\nheroize\\nheros\\nhigh-quality\\nhigh-spirited\\nhilarious\\nholy\\nhomage\\nhonest\\nhonesty\\nhonor\\nhonorable\\nhonored\\nhonoring\\nhooray\\nhopeful\\nhospitable\\nhot\\nhotcake\\nhotcakes\\nhottest\\nhug\\nhumane\\nhumble\\nhumility\\nhumor\\nhumorous\\nhumorously\\nhumour\\nhumourous\\nideal\\nidealize\\nideally\\nidol\\nidolize\\nidolized\\nidyllic\\nilluminate\\nilluminati\\nilluminating\\nillumine\\nillustrious\\nilu\\nimaculate\\nimaginative\\nimmaculate\\nimmaculately\\nimmense\\nimpartial\\nimpartiality\\nimpartially\\nimpassioned\\nimpeccable\\nimpeccably\\nimportant\\nimpress\\nimpressed\\nimpresses\\nimpressive\\nimpressively\\nimpressiveness\\nimprove\\nimproved\\nimprovement\\nimprovements\\nimproves\\nimproving\\nincredible\\nincredibly\\nindebted\\nindividualized\\nindulgence\\nindulgent\\nindustrious\\ninestimable\\ninestimably\\ninexpensive\\ninfallibility\\ninfallible\\ninfallibly\\ninfluential\\ningenious\\ningeniously\\ningenuity\\ningenuous\\ningenuously\\ninnocuous\\ninnovation\\ninnovative\\ninpressed\\ninsightful\\ninsightfully\\ninspiration\\ninspirational\\ninspire\\ninspiring\\ninstantly\\ninstructive\\ninstrumental\\nintegral\\nintegrated\\nintelligence\\nintelligent\\nintelligible\\ninteresting\\ninterests\\nintimacy\\nintimate\\nintricate\\nintrigue\\nintriguing\\nintriguingly\\nintuitive\\ninvaluable\\ninvaluablely\\ninventive\\ninvigorate\\ninvigorating\\ninvincibility\\ninvincible\\ninviolable\\ninviolate\\ninvulnerable\\nirreplaceable\\nirreproachable\\nirresistible\\nirresistibly\\nissue-free\\njaw-droping\\njaw-dropping\\njollify\\njolly\\njovial\\njoy\\njoyful\\njoyfully\\njoyous\\njoyously\\njubilant\\njubilantly\\njubilate\\njubilation\\njubiliant\\njudicious\\njustly\\nkeen\\nkeenly\\nkeenness\\nkid-friendly\\nkindliness\\nkindly\\nkindness\\nknowledgeable\\nkudos\\nlarge-capacity\\nlaud\\nlaudable\\nlaudably\\nlavish\\nlavishly\\nlaw-abiding\\nlawful\\nlawfully\\nlead\\nleading\\nleads\\nlean\\nled\\nlegendary\\nleverage\\nlevity\\nliberate\\nliberation\\nliberty\\nlifesaver\\nlight-hearted\\nlighter\\nlikable\\nlike\\nliked\\nlikes\\nliking\\nlionhearted\\nlively\\nlogical\\nlong-lasting\\nlovable\\nlovably\\nlove\\nloved\\nloveliness\\nlovely\\nlover\\nloves\\nloving\\nlow-cost\\nlow-price\\nlow-priced\\nlow-risk\\nlower-priced\\nloyal\\nloyalty\\nlucid\\nlucidly\\nluck\\nluckier\\nluckiest\\nluckiness\\nlucky\\nlucrative\\nluminous\\nlush\\nluster\\nlustrous\\nluxuriant\\nluxuriate\\nluxurious\\nluxuriously\\nluxury\\nlyrical\\nmagic\\nmagical\\nmagnanimous\\nmagnanimously\\nmagnificence\\nmagnificent\\nmagnificently\\nmajestic\\nmajesty\\nmanageable\\nmaneuverable\\nmarvel\\nmarveled\\nmarvelled\\nmarvellous\\nmarvelous\\nmarvelously\\nmarvelousness\\nmarvels\\nmaster\\nmasterful\\nmasterfully\\nmasterpiece\\nmasterpieces\\nmasters\\nmastery\\nmatchless\\nmature\\nmaturely\\nmaturity\\nmeaningful\\nmemorable\\nmerciful\\nmercifully\\nmercy\\nmerit\\nmeritorious\\nmerrily\\nmerriment\\nmerriness\\nmerry\\nmesmerize\\nmesmerized\\nmesmerizes\\nmesmerizing\\nmesmerizingly\\nmeticulous\\nmeticulously\\nmightily\\nmighty\\nmind-blowing\\nmiracle\\nmiracles\\nmiraculous\\nmiraculously\\nmiraculousness\\nmodern\\nmodest\\nmodesty\\nmomentous\\nmonumental\\nmonumentally\\nmorality\\nmotivated\\nmulti-purpose\\nnavigable\\nneat\\nneatest\\nneatly\\nnice\\nnicely\\nnicer\\nnicest\\nnifty\\nnimble\\nnoble\\nnobly\\nnoiseless\\nnon-violence\\nnon-violent\\nnotably\\nnoteworthy\\nnourish\\nnourishing\\nnourishment\\nnovelty\\nnurturing\\noasis\\nobsession\\nobsessions\\nobtainable\\nopenly\\nopenness\\noptimal\\noptimism\\noptimistic\\nopulent\\norderly\\noriginality\\noutdo\\noutdone\\noutperform\\noutperformed\\noutperforming\\noutperforms\\noutshine\\noutshone\\noutsmart\\noutstanding\\noutstandingly\\noutstrip\\noutwit\\novation\\noverjoyed\\novertake\\novertaken\\novertakes\\novertaking\\novertook\\noverture\\npain-free\\npainless\\npainlessly\\npalatial\\npamper\\npampered\\npamperedly\\npamperedness\\npampers\\npanoramic\\nparadise\\nparamount\\npardon\\npassion\\npassionate\\npassionately\\npatience\\npatient\\npatiently\\npatriot\\npatriotic\\npeace\\npeaceable\\npeaceful\\npeacefully\\npeacekeepers\\npeach\\npeerless\\npep\\npepped\\npepping\\npeppy\\npeps\\nperfect\\nperfection\\nperfectly\\npermissible\\nperseverance\\npersevere\\npersonages\\npersonalized\\nphenomenal\\nphenomenally\\npicturesque\\npiety\\npinnacle\\nplayful\\nplayfully\\npleasant\\npleasantly\\npleased\\npleases\\npleasing\\npleasingly\\npleasurable\\npleasurably\\npleasure\\nplentiful\\npluses\\nplush\\nplusses\\npoetic\\npoeticize\\npoignant\\npoise\\npoised\\npolished\\npolite\\npoliteness\\npopular\\nportable\\nposh\\npositive\\npositively\\npositives\\npowerful\\npowerfully\\npraise\\npraiseworthy\\npraising\\npre-eminent\\nprecious\\nprecise\\nprecisely\\npreeminent\\nprefer\\npreferable\\npreferably\\nprefered\\npreferes\\npreferring\\nprefers\\npremier\\nprestige\\nprestigious\\nprettily\\npretty\\npriceless\\npride\\nprincipled\\nprivilege\\nprivileged\\nprize\\nproactive\\nproblem-free\\nproblem-solver\\nprodigious\\nprodigiously\\nprodigy\\nproductive\\nproductively\\nproficient\\nproficiently\\nprofound\\nprofoundly\\nprofuse\\nprofusion\\nprogress\\nprogressive\\nprolific\\nprominence\\nprominent\\npromise\\npromised\\npromises\\npromising\\npromoter\\nprompt\\npromptly\\nproper\\nproperly\\npropitious\\npropitiously\\npros\\nprosper\\nprosperity\\nprosperous\\nprospros\\nprotect\\nprotection\\nprotective\\nproud\\nproven\\nproves\\nprovidence\\nproving\\nprowess\\nprudence\\nprudent\\nprudently\\npunctual\\npure\\npurify\\npurposeful\\nquaint\\nqualified\\nqualify\\nquicker\\nquiet\\nquieter\\nradiance\\nradiant\\nrapid\\nrapport\\nrapt\\nrapture\\nraptureous\\nraptureously\\nrapturous\\nrapturously\\nrational\\nrazor-sharp\\nreachable\\nreadable\\nreadily\\nready\\nreaffirm\\nreaffirmation\\nrealistic\\nrealizable\\nreasonable\\nreasonably\\nreasoned\\nreassurance\\nreassure\\nreceptive\\nreclaim\\nrecomend\\nrecommend\\nrecommendation\\nrecommendations\\nrecommended\\nreconcile\\nreconciliation\\nrecord-setting\\nrecover\\nrecovery\\nrectification\\nrectify\\nrectifying\\nredeem\\nredeeming\\nredemption\\nrefine\\nrefined\\nrefinement\\nreform\\nreformed\\nreforming\\nreforms\\nrefresh\\nrefreshed\\nrefreshing\\nrefund\\nrefunded\\nregal\\nregally\\nregard\\nrejoice\\nrejoicing\\nrejoicingly\\nrejuvenate\\nrejuvenated\\nrejuvenating\\nrelaxed\\nrelent\\nreliable\\nreliably\\nrelief\\nrelish\\nremarkable\\nremarkably\\nremedy\\nremission\\nremunerate\\nrenaissance\\nrenewed\\nrenown\\nrenowned\\nreplaceable\\nreputable\\nreputation\\nresilient\\nresolute\\nresound\\nresounding\\nresourceful\\nresourcefulness\\nrespect\\nrespectable\\nrespectful\\nrespectfully\\nrespite\\nresplendent\\nresponsibly\\nresponsive\\nrestful\\nrestored\\nrestructure\\nrestructured\\nrestructuring\\nretractable\\nrevel\\nrevelation\\nrevere\\nreverence\\nreverent\\nreverently\\nrevitalize\\nrevival\\nrevive\\nrevives\\nrevolutionary\\nrevolutionize\\nrevolutionized\\nrevolutionizes\\nreward\\nrewarding\\nrewardingly\\nrich\\nricher\\nrichly\\nrichness\\nright\\nrighten\\nrighteous\\nrighteously\\nrighteousness\\nrightful\\nrightfully\\nrightly\\nrightness\\nrisk-free\\nrobust\\nrock-star\\nrock-stars\\nrockstar\\nrockstars\\nromantic\\nromantically\\nromanticize\\nroomier\\nroomy\\nrosy\\nsafe\\nsafely\\nsagacity\\nsagely\\nsaint\\nsaintliness\\nsaintly\\nsalutary\\nsalute\\nsane\\nsatisfactorily\\nsatisfactory\\nsatisfied\\nsatisfies\\nsatisfy\\nsatisfying\\nsatisified\\nsaver\\nsavings\\nsavior\\nsavvy\\nscenic\\nseamless\\nseasoned\\nsecure\\nsecurely\\nselective\\nself-determination\\nself-respect\\nself-satisfaction\\nself-sufficiency\\nself-sufficient\\nsensation\\nsensational\\nsensationally\\nsensations\\nsensible\\nsensibly\\nsensitive\\nserene\\nserenity\\nsexy\\nsharp\\nsharper\\nsharpest\\nshimmering\\nshimmeringly\\nshine\\nshiny\\nsignificant\\nsilent\\nsimpler\\nsimplest\\nsimplified\\nsimplifies\\nsimplify\\nsimplifying\\nsincere\\nsincerely\\nsincerity\\nskill\\nskilled\\nskillful\\nskillfully\\nslammin\\nsleek\\nslick\\nsmart\\nsmarter\\nsmartest\\nsmartly\\nsmile\\nsmiles\\nsmiling\\nsmilingly\\nsmitten\\nsmooth\\nsmoother\\nsmoothes\\nsmoothest\\nsmoothly\\nsnappy\\nsnazzy\\nsociable\\nsoft\\nsofter\\nsolace\\nsolicitous\\nsolicitously\\nsolid\\nsolidarity\\nsoothe\\nsoothingly\\nsophisticated\\nsoulful\\nsoundly\\nsoundness\\nspacious\\nsparkle\\nsparkling\\nspectacular\\nspectacularly\\nspeedily\\nspeedy\\nspellbind\\nspellbinding\\nspellbindingly\\nspellbound\\nspirited\\nspiritual\\nsplendid\\nsplendidly\\nsplendor\\nspontaneous\\nsporty\\nspotless\\nsprightly\\nstability\\nstabilize\\nstable\\nstainless\\nstandout\\nstate-of-the-art\\nstately\\nstatuesque\\nstaunch\\nstaunchly\\nstaunchness\\nsteadfast\\nsteadfastly\\nsteadfastness\\nsteadiest\\nsteadiness\\nsteady\\nstellar\\nstellarly\\nstimulate\\nstimulates\\nstimulating\\nstimulative\\nstirringly\\nstraighten\\nstraightforward\\nstreamlined\\nstriking\\nstrikingly\\nstriving\\nstrong\\nstronger\\nstrongest\\nstunned\\nstunning\\nstunningly\\nstupendous\\nstupendously\\nsturdier\\nsturdy\\nstylish\\nstylishly\\nstylized\\nsuave\\nsuavely\\nsublime\\nsubsidize\\nsubsidized\\nsubsidizes\\nsubsidizing\\nsubstantive\\nsucceed\\nsucceeded\\nsucceeding\\nsucceeds\\nsucces\\nsuccess\\nsuccesses\\nsuccessful\\nsuccessfully\\nsuffice\\nsufficed\\nsuffices\\nsufficient\\nsufficiently\\nsuitable\\nsumptuous\\nsumptuously\\nsumptuousness\\nsuper\\nsuperb\\nsuperbly\\nsuperior\\nsuperiority\\nsupple\\nsupport\\nsupported\\nsupporter\\nsupporting\\nsupportive\\nsupports\\nsupremacy\\nsupreme\\nsupremely\\nsupurb\\nsupurbly\\nsurmount\\nsurpass\\nsurreal\\nsurvival\\nsurvivor\\nsustainability\\nsustainable\\nswank\\nswankier\\nswankiest\\nswanky\\nsweeping\\nsweet\\nsweeten\\nsweetheart\\nsweetly\\nsweetness\\nswift\\nswiftness\\ntalent\\ntalented\\ntalents\\ntantalize\\ntantalizing\\ntantalizingly\\ntempt\\ntempting\\ntemptingly\\ntenacious\\ntenaciously\\ntenacity\\ntender\\ntenderly\\nterrific\\nterrifically\\nthank\\nthankful\\nthinner\\nthoughtful\\nthoughtfully\\nthoughtfulness\\nthrift\\nthrifty\\nthrill\\nthrilled\\nthrilling\\nthrillingly\\nthrills\\nthrive\\nthriving\\nthumb-up\\nthumbs-up\\ntickle\\ntidy\\ntime-honored\\ntimely\\ntingle\\ntitillate\\ntitillating\\ntitillatingly\\ntogetherness\\ntolerable\\ntoll-free\\ntop\\ntop-notch\\ntop-quality\\ntopnotch\\ntops\\ntough\\ntougher\\ntoughest\\ntraction\\ntranquil\\ntranquility\\ntransparent\\ntreasure\\ntremendously\\ntrendy\\ntriumph\\ntriumphal\\ntriumphant\\ntriumphantly\\ntrivially\\ntrophy\\ntrouble-free\\ntrump\\ntrumpet\\ntrust\\ntrusted\\ntrusting\\ntrustingly\\ntrustworthiness\\ntrustworthy\\ntrusty\\ntruthful\\ntruthfully\\ntruthfulness\\ntwinkly\\nultra-crisp\\nunabashed\\nunabashedly\\nunaffected\\nunassailable\\nunbeatable\\nunbiased\\nunbound\\nuncomplicated\\nunconditional\\nundamaged\\nundaunted\\nunderstandable\\nundisputable\\nundisputably\\nundisputed\\nunencumbered\\nunequivocal\\nunequivocally\\nunfazed\\nunfettered\\nunforgettable\\nunity\\nunlimited\\nunmatched\\nunparalleled\\nunquestionable\\nunquestionably\\nunreal\\nunrestricted\\nunrivaled\\nunselfish\\nunwavering\\nupbeat\\nupgradable\\nupgradeable\\nupgraded\\nupheld\\nuphold\\nuplift\\nuplifting\\nupliftingly\\nupliftment\\nupscale\\nusable\\nuseable\\nuseful\\nuser-friendly\\nuser-replaceable\\nvaliant\\nvaliantly\\nvalor\\nvaluable\\nvariety\\nvenerate\\nverifiable\\nveritable\\nversatile\\nversatility\\nvibrant\\nvibrantly\\nvictorious\\nvictory\\nviewable\\nvigilance\\nvigilant\\nvirtue\\nvirtuous\\nvirtuously\\nvisionary\\nvivacious\\nvivid\\nvouch\\nvouchsafe\\nwarm\\nwarmer\\nwarmhearted\\nwarmly\\nwarmth\\nwealthy\\nwelcome\\nwell\\nwell-backlit\\nwell-balanced\\nwell-behaved\\nwell-being\\nwell-bred\\nwell-connected\\nwell-educated\\nwell-established\\nwell-informed\\nwell-intentioned\\nwell-known\\nwell-made\\nwell-managed\\nwell-mannered\\nwell-positioned\\nwell-received\\nwell-regarded\\nwell-rounded\\nwell-run\\nwell-wishers\\nwellbeing\\nwhoa\\nwholeheartedly\\nwholesome\\nwhooa\\nwhoooa\\nwieldy\\nwilling\\nwillingly\\nwillingness\\nwin\\nwindfall\\nwinnable\\nwinner\\nwinners\\nwinning\\nwins\\nwisdom\\nwise\\nwisely\\nwitty\\nwon\\nwonder\\nwonderful\\nwonderfully\\nwonderous\\nwonderously\\nwonders\\nwondrous\\nwoo\\nwork\\nworkable\\nworked\\nworks\\nworld-famous\\nworth\\nworth-while\\nworthiness\\nworthwhile\\nworthy\\nwow\\nwowed\\nwowing\\nwows\\nyay\\nyouthful\\nzeal\\nzenith\\nzest\\nzippy\\n'"
            ],
            "application/vnd.google.colaboratory.intrinsic+json": {
              "type": "string"
            }
          },
          "metadata": {},
          "execution_count": 119
        }
      ]
    },
    {
      "cell_type": "code",
      "source": [
        "#converting positive words to a list\n",
        "posilist = posiwords.split()\n",
        "posilist[1:10]"
      ],
      "metadata": {
        "colab": {
          "base_uri": "https://localhost:8080/"
        },
        "id": "6nYRHcFXPrHQ",
        "outputId": "8cf16647-c07d-482c-a04a-1985a35f788c"
      },
      "execution_count": 120,
      "outputs": [
        {
          "output_type": "execute_result",
          "data": {
            "text/plain": [
              "['abound',\n",
              " 'abounds',\n",
              " 'abundance',\n",
              " 'abundant',\n",
              " 'accessable',\n",
              " 'accessible',\n",
              " 'acclaim',\n",
              " 'acclaimed',\n",
              " 'acclamation']"
            ]
          },
          "metadata": {},
          "execution_count": 120
        }
      ]
    },
    {
      "cell_type": "code",
      "source": [
        "#Merging all stopwords file into one file\n",
        "\n",
        "sp1 = open('StopWords_Auditor.txt','r',encoding=\"ISO-8859-1\")\n",
        "sp2 = open('StopWords_Currencies.txt','r',encoding=\"ISO-8859-1\")\n",
        "sp3 = open('StopWords_DatesandNumbers.txt','r',encoding=\"ISO-8859-1\")\n",
        "sp4 = open('StopWords_Generic.txt','r',encoding=\"ISO-8859-1\")\n",
        "sp5 = open('StopWords_GenericLong.txt','r',encoding=\"ISO-8859-1\")\n",
        "sp6 = open('StopWords_Geographic.txt','r',encoding=\"ISO-8859-1\")\n",
        "sp7 = open('StopWords_Names.txt','r',encoding=\"ISO-8859-1\")\n",
        "\n",
        "sw1 = sp1.read()\n",
        "sw2 = sp2.read()\n",
        "sw3 = sp3.read()\n",
        "sw4 = sp4.read()\n",
        "sw5 = sp5.read()\n",
        "sw6 = sp6.read()\n",
        "sw7 = sp7.read()\n",
        "\n",
        "SW = open('All_stopwords.txt','w')\n",
        "stopwords = SW.write(sw1+sw2+sw3+sw4+sw5+sw6+sw7)\n",
        "stopwords"
      ],
      "metadata": {
        "colab": {
          "base_uri": "https://localhost:8080/"
        },
        "id": "Cix_wS6KWL2j",
        "outputId": "0d14cf2e-9bd8-44cf-e2e4-4c55fcd301c6"
      },
      "execution_count": 121,
      "outputs": [
        {
          "output_type": "execute_result",
          "data": {
            "text/plain": [
              "101914"
            ]
          },
          "metadata": {},
          "execution_count": 121
        }
      ]
    },
    {
      "cell_type": "code",
      "source": [
        "#Loading positive words file and converting to lowercase\n",
        "pos = open('positive-words.txt','r')\n",
        "posiwords = pos.read().lower()\n",
        "posilist = posiwords.split('\\n')\n",
        "\n",
        "\n",
        "#opening negative words file and converting to lowercase\n",
        "neg = open('negative-words.txt','r',encoding=\"ISO-8859-1\")\n",
        "negatiwords = neg.read().lower()\n",
        "negatilist = negatiwords.split('\\n')\n",
        "\n",
        "\n",
        "#opening all stopwords file and converting to lowercase\n",
        "stop = open('All_stopwords.txt','r')\n",
        "all_stop = stop.read().lower()\n",
        "stoplist = all_stop.split('\\n')\n",
        "\n",
        "print(posilist[1:5] ,'\\n', negatilist[1:5],'\\n',stoplist[1:5])\n",
        "\n"
      ],
      "metadata": {
        "colab": {
          "base_uri": "https://localhost:8080/"
        },
        "id": "RsYbdw-KbOcQ",
        "outputId": "f6e44c49-b55e-49f8-c662-4bd25a8af537"
      },
      "execution_count": 122,
      "outputs": [
        {
          "output_type": "stream",
          "name": "stdout",
          "text": [
            "['abound', 'abounds', 'abundance', 'abundant'] \n",
            " ['2-faces', 'abnormal', 'abolish', 'abominable'] \n",
            " ['young', 'deloitte', 'touche', 'kpmg']\n"
          ]
        }
      ]
    },
    {
      "cell_type": "code",
      "source": [
        "#tokenizeing module ,removing punctuations\n",
        "def tokening(text):\n",
        "    text = text.lower()\n",
        "    tokenizer = RegexpTokenizer(r'\\w+')\n",
        "    words_before_cleaning = tokenizer.tokenize(text)\n",
        "    #to get a list of those words from the text which are not in All_stopwords.txt file\n",
        "    words_after_cleaning = list(filter(lambda token: token not in stoplist, words_before_cleaning))\n",
        "    return words_after_cleaning"
      ],
      "metadata": {
        "id": "njJlQJPK1pas"
      },
      "execution_count": 123,
      "outputs": []
    },
    {
      "cell_type": "code",
      "source": [
        "posilist[3]"
      ],
      "metadata": {
        "colab": {
          "base_uri": "https://localhost:8080/",
          "height": 36
        },
        "id": "b7K1O67sZvNR",
        "outputId": "09e20802-8245-4bec-f30e-069ca0480964"
      },
      "execution_count": 124,
      "outputs": [
        {
          "output_type": "execute_result",
          "data": {
            "text/plain": [
              "'abundance'"
            ],
            "application/vnd.google.colaboratory.intrinsic+json": {
              "type": "string"
            }
          },
          "metadata": {},
          "execution_count": 124
        }
      ]
    },
    {
      "cell_type": "markdown",
      "source": [
        "#Extracting Derived Variables"
      ],
      "metadata": {
        "id": "7NppECzIyn42"
      }
    },
    {
      "cell_type": "markdown",
      "source": [
        "Positive score"
      ],
      "metadata": {
        "id": "VPlOIDGrz9Rt"
      }
    },
    {
      "cell_type": "code",
      "source": [
        "def positive_score (text):\n",
        "  posiword_count=0\n",
        "  phrase = tokening(text)\n",
        "  for word in phrase:\n",
        "    if word in posilist:\n",
        "       posiword_count +=1\n",
        "      \n",
        "    #retpos = posword\n",
        "  return posiword_count\n",
        "\n"
      ],
      "metadata": {
        "id": "FvqWwUlS2FoL"
      },
      "execution_count": 125,
      "outputs": []
    },
    {
      "cell_type": "markdown",
      "source": [
        "Negative score"
      ],
      "metadata": {
        "id": "M8cVcE-bz_RS"
      }
    },
    {
      "cell_type": "code",
      "source": [
        "def negative_score (text):\n",
        "  negatiword_count=0\n",
        "  phrase = tokening(text)\n",
        "  for word in phrase :\n",
        "    if word in negatilist :\n",
        "       negatiword_count +=1\n",
        "\n",
        "    #retneg = negword \n",
        "  return negatiword_count"
      ],
      "metadata": {
        "id": "rA0K7FCv1ppE"
      },
      "execution_count": 126,
      "outputs": []
    },
    {
      "cell_type": "markdown",
      "source": [
        "Polarity score"
      ],
      "metadata": {
        "id": "eo4h4iO70Bsp"
      }
    },
    {
      "cell_type": "code",
      "source": [
        "def polarity_score (text) :\n",
        "  pos = positive_score(text)\n",
        "  neg = negative_score(text)\n",
        "  polarity = (pos - neg) / ((pos + neg) + 0.000001)\n",
        "  return round(polarity,2)"
      ],
      "metadata": {
        "id": "NwPhXf4u2PRX"
      },
      "execution_count": 127,
      "outputs": []
    },
    {
      "cell_type": "markdown",
      "source": [
        "Subjectivity score"
      ],
      "metadata": {
        "id": "16AcH86q0D1L"
      }
    },
    {
      "cell_type": "code",
      "source": [
        "def subjectivity_score(text):\n",
        "  \n",
        "\n",
        "\n",
        "  ab1 = positive_score(text)\n",
        "  ab2 = negative_score(text)\n",
        "  ab3 = total_word_count(text)\n",
        "\n",
        "  \n",
        "  \n",
        "  \n",
        "\n",
        "  subjectivity_score =  (ab1 + ab2)/((ab3) + 0.0000001)\n",
        "      \n",
        "  return round(subjectivity_score,2)"
      ],
      "metadata": {
        "id": "LXbJnMuB2zqI"
      },
      "execution_count": 128,
      "outputs": []
    },
    {
      "cell_type": "markdown",
      "source": [
        "#Analysis of Readability"
      ],
      "metadata": {
        "id": "LuBft9U5y5Hc"
      }
    },
    {
      "cell_type": "markdown",
      "source": [
        "Average Sentence Length"
      ],
      "metadata": {
        "id": "y6ERfboBzA9r"
      }
    },
    {
      "cell_type": "code",
      "source": [
        "def AverageSentenceLength (text):\n",
        "  number_of_words = total_word_count(text)\n",
        "  number_of_sentences = len (sent_tokenize(text))\n",
        "  \n",
        "\n",
        "  avg = number_of_words / number_of_sentences\n",
        "\n",
        "  return round(avg,2)\n",
        "\n"
      ],
      "metadata": {
        "id": "Tv-MynGQ2PW0"
      },
      "execution_count": 129,
      "outputs": []
    },
    {
      "cell_type": "code",
      "source": [
        "a  = 'rafi is great. yeah i knoe. tell me something i dont know...'\n",
        "len(sent_tokenize(a))"
      ],
      "metadata": {
        "colab": {
          "base_uri": "https://localhost:8080/"
        },
        "id": "mOFD-LGSx0OY",
        "outputId": "2bf222f6-9b48-482b-c383-ac3378dce4ec"
      },
      "execution_count": 130,
      "outputs": [
        {
          "output_type": "execute_result",
          "data": {
            "text/plain": [
              "3"
            ]
          },
          "metadata": {},
          "execution_count": 130
        }
      ]
    },
    {
      "cell_type": "code",
      "source": [
        "a= 'lets test here '\n",
        "AverageSentenceLength(a)\n",
        "#len(a.split())"
      ],
      "metadata": {
        "id": "ef93AlpIG2P6",
        "colab": {
          "base_uri": "https://localhost:8080/"
        },
        "outputId": "829ce07c-ca69-49f0-c750-3ad2c9458a61"
      },
      "execution_count": 131,
      "outputs": [
        {
          "output_type": "execute_result",
          "data": {
            "text/plain": [
              "2.0"
            ]
          },
          "metadata": {},
          "execution_count": 131
        }
      ]
    },
    {
      "cell_type": "markdown",
      "source": [
        "Percentage of complex word"
      ],
      "metadata": {
        "id": "j4qLHWouzGNC"
      }
    },
    {
      "cell_type": "code",
      "source": [
        "def percentage_complex_word(text):\n",
        "    tokens = tokening(text)\n",
        "    complexWord = 0\n",
        "    complex_word_percentage = 0\n",
        "    \n",
        "    for word in tokens:\n",
        "        vowels=0\n",
        "        if word.endswith(('es','ed')):\n",
        "            pass\n",
        "        else:\n",
        "            for w in word:\n",
        "                if(w=='a' or w=='e' or w=='i' or w=='o' or w=='u'):\n",
        "                    vowels += 1\n",
        "            if(vowels > 2):\n",
        "                complexWord += 1\n",
        "    if len(tokens) != 0:\n",
        "        complex_word_percentage = complexWord/len(tokens)\n",
        "    \n",
        "    return round(complex_word_percentage,2)"
      ],
      "metadata": {
        "id": "8ysniOmd2Y3T"
      },
      "execution_count": 132,
      "outputs": []
    },
    {
      "cell_type": "markdown",
      "source": [
        "Fog Index"
      ],
      "metadata": {
        "id": "urPCriEUzOgL"
      }
    },
    {
      "cell_type": "code",
      "source": [
        "def fog_index(text):\n",
        "  \n",
        "    avg = AverageSentenceLength(text)\n",
        "    complexes = percentage_complex_word(text)\n",
        "\n",
        "\n",
        "    fogIndex = 0.4 * (avg + complexes)\n",
        "    return round(fogIndex,2)"
      ],
      "metadata": {
        "id": "7d9i6pm_2ZCO"
      },
      "execution_count": 133,
      "outputs": []
    },
    {
      "cell_type": "markdown",
      "source": [
        "#Average number of words per sentence"
      ],
      "metadata": {
        "id": "8xxsPQaAzSZ5"
      }
    },
    {
      "cell_type": "code",
      "source": [
        "def average_number_of_words_per_sentence(text):\n",
        "  total_number_of_words = total_word_count(text)\n",
        "  total_number_of_sentences = len(sent_tokenize(text))\n",
        "  \n",
        "  average_number_of_words_per_sentence = total_number_of_words/total_number_of_sentences\n",
        "  return round(average_number_of_words_per_sentence,2)\n",
        "  \n"
      ],
      "metadata": {
        "id": "YIFv1gFG3rja"
      },
      "execution_count": 134,
      "outputs": []
    },
    {
      "cell_type": "markdown",
      "source": [
        "#Complex word count"
      ],
      "metadata": {
        "id": "YHL3Ve5fzcqF"
      }
    },
    {
      "cell_type": "code",
      "source": [
        "def complex_word_count(text):\n",
        "    tokens = tokening(text)\n",
        "    complexWord = 0\n",
        "    \n",
        "    for word in tokens:\n",
        "        vowels=0\n",
        "        if word.endswith(('es','ed')):\n",
        "            pass\n",
        "        else:\n",
        "            for w in word:\n",
        "                if(w=='a' or w=='e' or w=='i' or w=='o' or w=='u'):\n",
        "                    vowels += 1\n",
        "            if(vowels > 2):\n",
        "                complexWord += 1\n",
        "    return complexWord"
      ],
      "metadata": {
        "id": "-eJrEYe22Yz3"
      },
      "execution_count": 135,
      "outputs": []
    },
    {
      "cell_type": "markdown",
      "source": [
        "#Word Count"
      ],
      "metadata": {
        "id": "1r_pM33LzqKz"
      }
    },
    {
      "cell_type": "code",
      "source": [
        "def total_word_count(text):\n",
        "    tokens = tokening(text)\n",
        "    return len(tokens)"
      ],
      "metadata": {
        "id": "D2u6aOaz2PTc"
      },
      "execution_count": 136,
      "outputs": []
    },
    {
      "cell_type": "markdown",
      "source": [
        "#Syllable Count Per Word"
      ],
      "metadata": {
        "id": "sdDKZLNnztGT"
      }
    },
    {
      "cell_type": "code",
      "source": [
        "def sylabble_count_per_word(text):\n",
        "    tokens = tokening(text)\n",
        "    syllable = 0\n",
        "    \n",
        "    for word in tokens:\n",
        "        vowels=0\n",
        "        if word.endswith(('es','ed')):\n",
        "            pass\n",
        "        else:\n",
        "            for w in word:\n",
        "                if(w=='a' or w=='e' or w=='i' or w=='o' or w=='u'):\n",
        "                    syllable +=1\n",
        "    return syllable"
      ],
      "metadata": {
        "id": "xAaNjsWg6dut"
      },
      "execution_count": 137,
      "outputs": []
    },
    {
      "cell_type": "code",
      "source": [
        "sylabble_count_per_word('ae rafi ae')"
      ],
      "metadata": {
        "colab": {
          "base_uri": "https://localhost:8080/"
        },
        "id": "v0IE55A37GjF",
        "outputId": "120e3b57-4e0d-4691-b405-9d91e8581f97"
      },
      "execution_count": 138,
      "outputs": [
        {
          "output_type": "execute_result",
          "data": {
            "text/plain": [
              "6"
            ]
          },
          "metadata": {},
          "execution_count": 138
        }
      ]
    },
    {
      "cell_type": "markdown",
      "source": [
        "#Personal Pronouns"
      ],
      "metadata": {
        "id": "cWPKoM4nzyWa"
      }
    },
    {
      "cell_type": "code",
      "source": [
        "def personal_pronouns(text):\n",
        "  #token = tokening(text)\n",
        "  texts = text.lower()\n",
        "  tokenizer = RegexpTokenizer(r'\\w+')\n",
        "  tokens = tokenizer.tokenize(texts)\n",
        "\n",
        "\n",
        "\n",
        "  count = 0\n",
        "  for w in tokens:\n",
        "    \n",
        "    if (w=='US'):\n",
        "      pass\n",
        "    if (w =='i' or w=='we' or w =='ours' or w=='us'):\n",
        "      count +=1\n",
        "  return count"
      ],
      "metadata": {
        "id": "jQsWH6RC36hu"
      },
      "execution_count": 169,
      "outputs": []
    },
    {
      "cell_type": "markdown",
      "source": [
        "#Average Word Length"
      ],
      "metadata": {
        "id": "CLbk53Ifz1fs"
      }
    },
    {
      "cell_type": "code",
      "source": [
        "def avg_word_length(text):\n",
        "  token = tokening(text)\n",
        "  word_count = 0\n",
        "  character_count = 0\n",
        "\n",
        "  for word in token:\n",
        "    word_count += 1\n",
        "    for each_character in word:\n",
        "      character_count += 1\n",
        "\n",
        "  avg_word_length = character_count/word_count\n",
        "\n",
        "  return round(avg_word_length,2)\n",
        "\n",
        "\n",
        "trys = 'yes its called being sure'\n",
        "#trys = trys.split(' ')\n",
        "   \n",
        "avg_word_length(trys)\n"
      ],
      "metadata": {
        "colab": {
          "base_uri": "https://localhost:8080/"
        },
        "id": "ZnNhsA6T38Bb",
        "outputId": "06f43dfc-a052-4f67-a1c3-2fd5a77ccee5"
      },
      "execution_count": 141,
      "outputs": [
        {
          "output_type": "execute_result",
          "data": {
            "text/plain": [
              "6.0"
            ]
          },
          "metadata": {},
          "execution_count": 141
        }
      ]
    },
    {
      "cell_type": "markdown",
      "source": [
        "#Smaller Text Analysis for faster output"
      ],
      "metadata": {
        "id": "AHXn3pSiCzTu"
      }
    },
    {
      "cell_type": "code",
      "source": [
        "URLS = df [\"URL\"]\n",
        "URLS"
      ],
      "metadata": {
        "id": "X5RxiSUMDleZ",
        "colab": {
          "base_uri": "https://localhost:8080/"
        },
        "outputId": "87aadbcf-ed1b-4865-dd6f-d1e556c09c0e"
      },
      "execution_count": 142,
      "outputs": [
        {
          "output_type": "execute_result",
          "data": {
            "text/plain": [
              "0      https://insights.blackcoffer.com/is-telehealth...\n",
              "1      https://insights.blackcoffer.com/how-telehealt...\n",
              "2      https://insights.blackcoffer.com/is-telemedici...\n",
              "3      https://insights.blackcoffer.com/is-telehealth...\n",
              "4      https://insights.blackcoffer.com/how-people-di...\n",
              "                             ...                        \n",
              "145    https://insights.blackcoffer.com/blockchain-fo...\n",
              "146    https://insights.blackcoffer.com/the-future-of...\n",
              "147    https://insights.blackcoffer.com/big-data-anal...\n",
              "148    https://insights.blackcoffer.com/business-anal...\n",
              "149    https://insights.blackcoffer.com/challenges-an...\n",
              "Name: URL, Length: 150, dtype: object"
            ]
          },
          "metadata": {},
          "execution_count": 142
        }
      ]
    },
    {
      "cell_type": "code",
      "source": [
        "corpus =[]\n",
        "for url in URLS:\n",
        "\n",
        "  page=requests.get(url , headers={\"User-Agent\": \"XY\"})\n",
        "  #using beautiful soup for DATA CRAWLING  \n",
        "  soup = BeautifulSoup(page.text , 'html.parser')\n",
        "  #to get article title\n",
        "  article_title = soup.find(\"h1\",attrs = { 'class' : 'entry-title'}).get_text()\n",
        "\n",
        "  #to get article text\n",
        "  article_text = soup.find(attrs = { 'class' : 'td-post-content'}).get_text()\n",
        "  #removing leading and trailing space from each line\n",
        "  lines = (line.strip() for line in article_text.splitlines())\n",
        "\n",
        "  #Breaking into text pieces\n",
        "  text_pieces = (phrase.strip() for line in lines for phrase in line.split(\"  \"))\n",
        "  \n",
        "  #Getting text egain with blank lines removed\n",
        "  text = '\\n'.join(piece for piece in text_pieces if piece)\n",
        "  corpus.append(text)"
      ],
      "metadata": {
        "id": "8awo8ItM0BOw"
      },
      "execution_count": 143,
      "outputs": []
    },
    {
      "cell_type": "code",
      "source": [
        "corpus[1]"
      ],
      "metadata": {
        "colab": {
          "base_uri": "https://localhost:8080/",
          "height": 244
        },
        "id": "juJ7_Od7ruL1",
        "outputId": "e68844eb-f414-4c81-cf38-03228a02fbde"
      },
      "execution_count": 144,
      "outputs": [
        {
          "output_type": "execute_result",
          "data": {
            "text/plain": [
              "'The last 2 years are the most critical time in the world and to survive in that time it’s a great challenge for people. People all around the world are to be aware of this and they protect their families by maintaining the protocols. At this time online services play a great role. People all around the world can buy their daily life needs online and the providers also care for their customers, so they delivered the product to their customers by maintaining the covid-19 protocols. This online medicine service has also become popular. The people don’t need to be panicked to go out for this and they can provide the medicines to the patients at the home, and also store the necessary medicines on their own. The terms telehealth and telemedicine are used interchangeably. In remote areas to provide medicines and healthcare telehealth is used and to provide medicines at the doorsteps to the people telemedicine’s used. The technology is used for this clinic information. This technique is used for electronic communication and sharing the medicine’s information with the pharmacy directly. This concept is not new but in this situation, the use of this system has become very popular and also very useful.\\nDiscussion\\nCurrent scenario\\nIn every world, every government gives priority to telehealth and telemedicine technology. This thing started with the medicine library, which provides the necessary medicine and also gives an idea of the use of every medicine. This technique is used for electronic communication and sharing the medicine’s information with the pharmacy directly. In every remote area, this technology provides a great role. To support the teleconnection activity department of information technology has set a standard for that so that people can use this in this critical situation.\\nImplementation\\nTelehealth and telemedicine are different things, but the aim and purpose of these two technologies are the same, to provide healthcare services to people without any problem. This system is used for both the patient and healthcare professional education also for the public(Leite,2018). This technology aims to overcome the barriers and provide equal access to the services and the interventions. This technology helps to overcome the barrier and solve problems like adverse weather and illness. Telehealth technology is used to consult with the patient’s family about diagnosis and treatment by the service.\\nMarketing Strategies\\nThe telehealth system provides the patient’s information to various locations to provide the patient with the best treatment. This system is accessed by every unavailable service for the patient in every remote area. Telehealth removes the travel time and waiting rooms for the patients to the remote areas. for this technique, the patients can get safe ety and are too ill to travel in restricted areas.\\xa0 This technology is not dependent on locations, it can work in every location. This marketing for this technology is very popular in the market and people also love to use this technology.\\nBenefit\\nThis is the benefit of this technology. This technology can manage the health of the patients by self-management and through monitoring. The patients can go for a checkup in time when they can choose this thing that always gives a benefit to the patients. There are more opportunities to improve standard care with various technologies. This is more equitable to access healthcare. The clients can use the medical images for diagnosis and they can tell the doctors about their problems through video calls. If the case is very serious they don’t wait to check the doctor they can directly connect with the doctors through video calls. But in other ways, it causes some problems for the patients. With this technology they can meet various doctors each time, these things can create confusion for the patients and their families. The older patients and the child does have a family member with them for their health purpose. The patient’s and the doctor’s communication is needed to be good and they need to understand this is a part of the therapy. If they do not communicate with each other, the problem will take a long time to resolve. The most important thing is that the patient and the therapist need to use the technology properly. In time this technology will help people in many ways like that.\\nFuture Scopes\\nThis technology has the scope to be more popular in the future. After the covid-19 situation, this technology became very popular so the care delivery services that connect the patient to the health professionals to provide using the video calls and texting, and many more. For this, accessible and affordable health care is born as people’s care. Today telehealth is bigger than everything (Ramettaet al .2019).\\xa0 The services provide the patients to use this properly and get their therapy not to go to the clinic and can use these things as a lucky chance for their family and also.\\nConclusion\\nPatients always appreciate this technology and agree that this technology always helps them a lot and this is a good review to proceed with these things in the future. The most common reason is to provide the technology everywhere to the GP technology which is easy to locate the patient’s position to access them in various conditions.\\xa0 Proper communication is when the GP system is working properly and it has the locking time that causes problems so that the two parties have every mall chance to face any problem.\\xa0 With this technology, people can have courage and faith in their life. So they believe in this system nowadays. After surviving this critical situation they are already using this in daily life. So the purpose of building this system is to reach their level and be successful to achieve its purpose.\\nBlackcoffer Insights 40: Pranavitha.V, WOXSEN UNIVERSITY'"
            ],
            "application/vnd.google.colaboratory.intrinsic+json": {
              "type": "string"
            }
          },
          "metadata": {},
          "execution_count": 144
        }
      ]
    },
    {
      "cell_type": "code",
      "source": [
        "df2 = pd.DataFrame({'title':url_title,'corpus': corpus})"
      ],
      "metadata": {
        "id": "jwhQidR3rRXJ"
      },
      "execution_count": 173,
      "outputs": []
    },
    {
      "cell_type": "code",
      "source": [
        "df2[\"POSITIVE SCORE\"] = df2[\"corpus\"].head() . apply (positive_score)\n",
        "df2[\"NEGATIVE SCORE\"] = df2[\"corpus\"].head() . apply (negative_score)\n",
        "df2[\"POLARITY SCORE\"] = df2[\"corpus\"].head() . apply (polarity_score)\n",
        "df2[\"SUBJECTIVITY SCORE\"] = df2[\"corpus\"].head().apply(subjectivity_score)\n",
        "df2[\"AVG SENTENCE LENGTH\"] = df2[\"corpus\"].head().apply (AverageSentenceLength)\n",
        "df2[\"PERCENTAGE OF COMPLEX WORDS\"] = df2[\"corpus\"].head().apply (percentage_complex_word)\n",
        "df2[\"FOG INDEX\"] = df2[\"corpus\"].head().apply(fog_index)\n",
        "df2[\"AVG NUMBER OF WORDS PER SENTENCE\"] = df2[\"corpus\"].head(). apply (average_number_of_words_per_sentence)\n",
        "df2[\"COMPLEX WORD COUNT\"] = df2[\"corpus\"].head(). apply (complex_word_count)\n",
        "df2[\"WORD COUNT\"] = df2[\"corpus\"].head().apply (total_word_count)\n",
        "df2[\"SYLLABLE PER WORD\"] = df2[\"corpus\"].head().apply (sylabble_count_per_word)\n",
        "df2[\"PERSONAL PRONOUNS\"] = df2[\"corpus\"].head().apply (personal_pronouns)\n",
        "df2[\"AVG WORD LENGTH\"] = df2[\"corpus\"].head().apply(avg_word_length)\n",
        "df2\n"
      ],
      "metadata": {
        "colab": {
          "base_uri": "https://localhost:8080/",
          "height": 1000
        },
        "id": "LGG2v_Cqp2dT",
        "outputId": "45b2b207-09b3-4a62-c808-c2d527c6dace"
      },
      "execution_count": 174,
      "outputs": [
        {
          "output_type": "execute_result",
          "data": {
            "text/plain": [
              "                                                 title  \\\n",
              "0             is telehealth the future of healthcare 3   \n",
              "1    how telehealth and telemedicine helping people...   \n",
              "2       is telemedicine effective in treating patients   \n",
              "3             is telehealth the future of healthcare 2   \n",
              "4    how people diverted to telehealth services and...   \n",
              "..                                                 ...   \n",
              "145                            blockchain for payments   \n",
              "146                            the future of investing   \n",
              "147                   big data analytics in healthcare   \n",
              "148      business analytics in the healthcare industry   \n",
              "149  challenges and opportunities of big data in he...   \n",
              "\n",
              "                                                corpus  POSITIVE SCORE  \\\n",
              "0    Covid-19 has paved the way for advancements in...            32.0   \n",
              "1    The last 2 years are the most critical time in...            36.0   \n",
              "2    Telemedicine, which allows patients and doctor...            79.0   \n",
              "3    Telemedicine refers to a specific set of clini...            59.0   \n",
              "4    The future of telehealth stays positive\\nTo as...            76.0   \n",
              "..                                                 ...             ...   \n",
              "145  Reconciling with the financial realities of an...             NaN   \n",
              "146  What Is an Investment?\\nAn investment is a res...             NaN   \n",
              "147  Quality and affordable healthcare is a vision ...             NaN   \n",
              "148  Analytics is a statistical scientific process ...             NaN   \n",
              "149  Big Data\\nTo begin with I shall first like to ...             NaN   \n",
              "\n",
              "     NEGATIVE SCORE  POLARITY SCORE  SUBJECTIVITY SCORE  AVG SENTENCE LENGTH  \\\n",
              "0               8.0            0.60                0.11                14.36   \n",
              "1              16.0            0.38                0.13                 7.41   \n",
              "2              28.0            0.48                0.12                 9.95   \n",
              "3              22.0            0.46                0.08                11.36   \n",
              "4              33.0            0.39                0.12                11.69   \n",
              "..              ...             ...                 ...                  ...   \n",
              "145             NaN             NaN                 NaN                  NaN   \n",
              "146             NaN             NaN                 NaN                  NaN   \n",
              "147             NaN             NaN                 NaN                  NaN   \n",
              "148             NaN             NaN                 NaN                  NaN   \n",
              "149             NaN             NaN                 NaN                  NaN   \n",
              "\n",
              "     PERCENTAGE OF COMPLEX WORDS  FOG INDEX  AVG NUMBER OF WORDS PER SENTENCE  \\\n",
              "0                           0.50       5.94                             14.36   \n",
              "1                           0.54       3.18                              7.41   \n",
              "2                           0.54       4.20                              9.95   \n",
              "3                           0.52       4.75                             11.36   \n",
              "4                           0.50       4.88                             11.69   \n",
              "..                           ...        ...                               ...   \n",
              "145                          NaN        NaN                               NaN   \n",
              "146                          NaN        NaN                               NaN   \n",
              "147                          NaN        NaN                               NaN   \n",
              "148                          NaN        NaN                               NaN   \n",
              "149                          NaN        NaN                               NaN   \n",
              "\n",
              "     COMPLEX WORD COUNT  WORD COUNT  SYLLABLE PER WORD  PERSONAL PRONOUNS  \\\n",
              "0                 178.0       359.0              834.0                0.0   \n",
              "1                 216.0       400.0             1014.0                0.0   \n",
              "2                 497.0       925.0             2435.0                1.0   \n",
              "3                 517.0       988.0             2471.0                0.0   \n",
              "4                 465.0       935.0             2375.0                1.0   \n",
              "..                  ...         ...                ...                ...   \n",
              "145                 NaN         NaN                NaN                NaN   \n",
              "146                 NaN         NaN                NaN                NaN   \n",
              "147                 NaN         NaN                NaN                NaN   \n",
              "148                 NaN         NaN                NaN                NaN   \n",
              "149                 NaN         NaN                NaN                NaN   \n",
              "\n",
              "     AVG WORD LENGTH  \n",
              "0               7.22  \n",
              "1               7.10  \n",
              "2               7.57  \n",
              "3               7.40  \n",
              "4               7.49  \n",
              "..               ...  \n",
              "145              NaN  \n",
              "146              NaN  \n",
              "147              NaN  \n",
              "148              NaN  \n",
              "149              NaN  \n",
              "\n",
              "[150 rows x 15 columns]"
            ],
            "text/html": [
              "\n",
              "  <div id=\"df-a5f7b757-2e94-47c8-9669-7b44e54b6a4e\">\n",
              "    <div class=\"colab-df-container\">\n",
              "      <div>\n",
              "<style scoped>\n",
              "    .dataframe tbody tr th:only-of-type {\n",
              "        vertical-align: middle;\n",
              "    }\n",
              "\n",
              "    .dataframe tbody tr th {\n",
              "        vertical-align: top;\n",
              "    }\n",
              "\n",
              "    .dataframe thead th {\n",
              "        text-align: right;\n",
              "    }\n",
              "</style>\n",
              "<table border=\"1\" class=\"dataframe\">\n",
              "  <thead>\n",
              "    <tr style=\"text-align: right;\">\n",
              "      <th></th>\n",
              "      <th>title</th>\n",
              "      <th>corpus</th>\n",
              "      <th>POSITIVE SCORE</th>\n",
              "      <th>NEGATIVE SCORE</th>\n",
              "      <th>POLARITY SCORE</th>\n",
              "      <th>SUBJECTIVITY SCORE</th>\n",
              "      <th>AVG SENTENCE LENGTH</th>\n",
              "      <th>PERCENTAGE OF COMPLEX WORDS</th>\n",
              "      <th>FOG INDEX</th>\n",
              "      <th>AVG NUMBER OF WORDS PER SENTENCE</th>\n",
              "      <th>COMPLEX WORD COUNT</th>\n",
              "      <th>WORD COUNT</th>\n",
              "      <th>SYLLABLE PER WORD</th>\n",
              "      <th>PERSONAL PRONOUNS</th>\n",
              "      <th>AVG WORD LENGTH</th>\n",
              "    </tr>\n",
              "  </thead>\n",
              "  <tbody>\n",
              "    <tr>\n",
              "      <th>0</th>\n",
              "      <td>is telehealth the future of healthcare 3</td>\n",
              "      <td>Covid-19 has paved the way for advancements in...</td>\n",
              "      <td>32.0</td>\n",
              "      <td>8.0</td>\n",
              "      <td>0.60</td>\n",
              "      <td>0.11</td>\n",
              "      <td>14.36</td>\n",
              "      <td>0.50</td>\n",
              "      <td>5.94</td>\n",
              "      <td>14.36</td>\n",
              "      <td>178.0</td>\n",
              "      <td>359.0</td>\n",
              "      <td>834.0</td>\n",
              "      <td>0.0</td>\n",
              "      <td>7.22</td>\n",
              "    </tr>\n",
              "    <tr>\n",
              "      <th>1</th>\n",
              "      <td>how telehealth and telemedicine helping people...</td>\n",
              "      <td>The last 2 years are the most critical time in...</td>\n",
              "      <td>36.0</td>\n",
              "      <td>16.0</td>\n",
              "      <td>0.38</td>\n",
              "      <td>0.13</td>\n",
              "      <td>7.41</td>\n",
              "      <td>0.54</td>\n",
              "      <td>3.18</td>\n",
              "      <td>7.41</td>\n",
              "      <td>216.0</td>\n",
              "      <td>400.0</td>\n",
              "      <td>1014.0</td>\n",
              "      <td>0.0</td>\n",
              "      <td>7.10</td>\n",
              "    </tr>\n",
              "    <tr>\n",
              "      <th>2</th>\n",
              "      <td>is telemedicine effective in treating patients</td>\n",
              "      <td>Telemedicine, which allows patients and doctor...</td>\n",
              "      <td>79.0</td>\n",
              "      <td>28.0</td>\n",
              "      <td>0.48</td>\n",
              "      <td>0.12</td>\n",
              "      <td>9.95</td>\n",
              "      <td>0.54</td>\n",
              "      <td>4.20</td>\n",
              "      <td>9.95</td>\n",
              "      <td>497.0</td>\n",
              "      <td>925.0</td>\n",
              "      <td>2435.0</td>\n",
              "      <td>1.0</td>\n",
              "      <td>7.57</td>\n",
              "    </tr>\n",
              "    <tr>\n",
              "      <th>3</th>\n",
              "      <td>is telehealth the future of healthcare 2</td>\n",
              "      <td>Telemedicine refers to a specific set of clini...</td>\n",
              "      <td>59.0</td>\n",
              "      <td>22.0</td>\n",
              "      <td>0.46</td>\n",
              "      <td>0.08</td>\n",
              "      <td>11.36</td>\n",
              "      <td>0.52</td>\n",
              "      <td>4.75</td>\n",
              "      <td>11.36</td>\n",
              "      <td>517.0</td>\n",
              "      <td>988.0</td>\n",
              "      <td>2471.0</td>\n",
              "      <td>0.0</td>\n",
              "      <td>7.40</td>\n",
              "    </tr>\n",
              "    <tr>\n",
              "      <th>4</th>\n",
              "      <td>how people diverted to telehealth services and...</td>\n",
              "      <td>The future of telehealth stays positive\\nTo as...</td>\n",
              "      <td>76.0</td>\n",
              "      <td>33.0</td>\n",
              "      <td>0.39</td>\n",
              "      <td>0.12</td>\n",
              "      <td>11.69</td>\n",
              "      <td>0.50</td>\n",
              "      <td>4.88</td>\n",
              "      <td>11.69</td>\n",
              "      <td>465.0</td>\n",
              "      <td>935.0</td>\n",
              "      <td>2375.0</td>\n",
              "      <td>1.0</td>\n",
              "      <td>7.49</td>\n",
              "    </tr>\n",
              "    <tr>\n",
              "      <th>...</th>\n",
              "      <td>...</td>\n",
              "      <td>...</td>\n",
              "      <td>...</td>\n",
              "      <td>...</td>\n",
              "      <td>...</td>\n",
              "      <td>...</td>\n",
              "      <td>...</td>\n",
              "      <td>...</td>\n",
              "      <td>...</td>\n",
              "      <td>...</td>\n",
              "      <td>...</td>\n",
              "      <td>...</td>\n",
              "      <td>...</td>\n",
              "      <td>...</td>\n",
              "      <td>...</td>\n",
              "    </tr>\n",
              "    <tr>\n",
              "      <th>145</th>\n",
              "      <td>blockchain for payments</td>\n",
              "      <td>Reconciling with the financial realities of an...</td>\n",
              "      <td>NaN</td>\n",
              "      <td>NaN</td>\n",
              "      <td>NaN</td>\n",
              "      <td>NaN</td>\n",
              "      <td>NaN</td>\n",
              "      <td>NaN</td>\n",
              "      <td>NaN</td>\n",
              "      <td>NaN</td>\n",
              "      <td>NaN</td>\n",
              "      <td>NaN</td>\n",
              "      <td>NaN</td>\n",
              "      <td>NaN</td>\n",
              "      <td>NaN</td>\n",
              "    </tr>\n",
              "    <tr>\n",
              "      <th>146</th>\n",
              "      <td>the future of investing</td>\n",
              "      <td>What Is an Investment?\\nAn investment is a res...</td>\n",
              "      <td>NaN</td>\n",
              "      <td>NaN</td>\n",
              "      <td>NaN</td>\n",
              "      <td>NaN</td>\n",
              "      <td>NaN</td>\n",
              "      <td>NaN</td>\n",
              "      <td>NaN</td>\n",
              "      <td>NaN</td>\n",
              "      <td>NaN</td>\n",
              "      <td>NaN</td>\n",
              "      <td>NaN</td>\n",
              "      <td>NaN</td>\n",
              "      <td>NaN</td>\n",
              "    </tr>\n",
              "    <tr>\n",
              "      <th>147</th>\n",
              "      <td>big data analytics in healthcare</td>\n",
              "      <td>Quality and affordable healthcare is a vision ...</td>\n",
              "      <td>NaN</td>\n",
              "      <td>NaN</td>\n",
              "      <td>NaN</td>\n",
              "      <td>NaN</td>\n",
              "      <td>NaN</td>\n",
              "      <td>NaN</td>\n",
              "      <td>NaN</td>\n",
              "      <td>NaN</td>\n",
              "      <td>NaN</td>\n",
              "      <td>NaN</td>\n",
              "      <td>NaN</td>\n",
              "      <td>NaN</td>\n",
              "      <td>NaN</td>\n",
              "    </tr>\n",
              "    <tr>\n",
              "      <th>148</th>\n",
              "      <td>business analytics in the healthcare industry</td>\n",
              "      <td>Analytics is a statistical scientific process ...</td>\n",
              "      <td>NaN</td>\n",
              "      <td>NaN</td>\n",
              "      <td>NaN</td>\n",
              "      <td>NaN</td>\n",
              "      <td>NaN</td>\n",
              "      <td>NaN</td>\n",
              "      <td>NaN</td>\n",
              "      <td>NaN</td>\n",
              "      <td>NaN</td>\n",
              "      <td>NaN</td>\n",
              "      <td>NaN</td>\n",
              "      <td>NaN</td>\n",
              "      <td>NaN</td>\n",
              "    </tr>\n",
              "    <tr>\n",
              "      <th>149</th>\n",
              "      <td>challenges and opportunities of big data in he...</td>\n",
              "      <td>Big Data\\nTo begin with I shall first like to ...</td>\n",
              "      <td>NaN</td>\n",
              "      <td>NaN</td>\n",
              "      <td>NaN</td>\n",
              "      <td>NaN</td>\n",
              "      <td>NaN</td>\n",
              "      <td>NaN</td>\n",
              "      <td>NaN</td>\n",
              "      <td>NaN</td>\n",
              "      <td>NaN</td>\n",
              "      <td>NaN</td>\n",
              "      <td>NaN</td>\n",
              "      <td>NaN</td>\n",
              "      <td>NaN</td>\n",
              "    </tr>\n",
              "  </tbody>\n",
              "</table>\n",
              "<p>150 rows × 15 columns</p>\n",
              "</div>\n",
              "      <button class=\"colab-df-convert\" onclick=\"convertToInteractive('df-a5f7b757-2e94-47c8-9669-7b44e54b6a4e')\"\n",
              "              title=\"Convert this dataframe to an interactive table.\"\n",
              "              style=\"display:none;\">\n",
              "        \n",
              "  <svg xmlns=\"http://www.w3.org/2000/svg\" height=\"24px\"viewBox=\"0 0 24 24\"\n",
              "       width=\"24px\">\n",
              "    <path d=\"M0 0h24v24H0V0z\" fill=\"none\"/>\n",
              "    <path d=\"M18.56 5.44l.94 2.06.94-2.06 2.06-.94-2.06-.94-.94-2.06-.94 2.06-2.06.94zm-11 1L8.5 8.5l.94-2.06 2.06-.94-2.06-.94L8.5 2.5l-.94 2.06-2.06.94zm10 10l.94 2.06.94-2.06 2.06-.94-2.06-.94-.94-2.06-.94 2.06-2.06.94z\"/><path d=\"M17.41 7.96l-1.37-1.37c-.4-.4-.92-.59-1.43-.59-.52 0-1.04.2-1.43.59L10.3 9.45l-7.72 7.72c-.78.78-.78 2.05 0 2.83L4 21.41c.39.39.9.59 1.41.59.51 0 1.02-.2 1.41-.59l7.78-7.78 2.81-2.81c.8-.78.8-2.07 0-2.86zM5.41 20L4 18.59l7.72-7.72 1.47 1.35L5.41 20z\"/>\n",
              "  </svg>\n",
              "      </button>\n",
              "      \n",
              "  <style>\n",
              "    .colab-df-container {\n",
              "      display:flex;\n",
              "      flex-wrap:wrap;\n",
              "      gap: 12px;\n",
              "    }\n",
              "\n",
              "    .colab-df-convert {\n",
              "      background-color: #E8F0FE;\n",
              "      border: none;\n",
              "      border-radius: 50%;\n",
              "      cursor: pointer;\n",
              "      display: none;\n",
              "      fill: #1967D2;\n",
              "      height: 32px;\n",
              "      padding: 0 0 0 0;\n",
              "      width: 32px;\n",
              "    }\n",
              "\n",
              "    .colab-df-convert:hover {\n",
              "      background-color: #E2EBFA;\n",
              "      box-shadow: 0px 1px 2px rgba(60, 64, 67, 0.3), 0px 1px 3px 1px rgba(60, 64, 67, 0.15);\n",
              "      fill: #174EA6;\n",
              "    }\n",
              "\n",
              "    [theme=dark] .colab-df-convert {\n",
              "      background-color: #3B4455;\n",
              "      fill: #D2E3FC;\n",
              "    }\n",
              "\n",
              "    [theme=dark] .colab-df-convert:hover {\n",
              "      background-color: #434B5C;\n",
              "      box-shadow: 0px 1px 3px 1px rgba(0, 0, 0, 0.15);\n",
              "      filter: drop-shadow(0px 1px 2px rgba(0, 0, 0, 0.3));\n",
              "      fill: #FFFFFF;\n",
              "    }\n",
              "  </style>\n",
              "\n",
              "      <script>\n",
              "        const buttonEl =\n",
              "          document.querySelector('#df-a5f7b757-2e94-47c8-9669-7b44e54b6a4e button.colab-df-convert');\n",
              "        buttonEl.style.display =\n",
              "          google.colab.kernel.accessAllowed ? 'block' : 'none';\n",
              "\n",
              "        async function convertToInteractive(key) {\n",
              "          const element = document.querySelector('#df-a5f7b757-2e94-47c8-9669-7b44e54b6a4e');\n",
              "          const dataTable =\n",
              "            await google.colab.kernel.invokeFunction('convertToInteractive',\n",
              "                                                     [key], {});\n",
              "          if (!dataTable) return;\n",
              "\n",
              "          const docLinkHtml = 'Like what you see? Visit the ' +\n",
              "            '<a target=\"_blank\" href=https://colab.research.google.com/notebooks/data_table.ipynb>data table notebook</a>'\n",
              "            + ' to learn more about interactive tables.';\n",
              "          element.innerHTML = '';\n",
              "          dataTable['output_type'] = 'display_data';\n",
              "          await google.colab.output.renderOutput(dataTable, element);\n",
              "          const docLink = document.createElement('div');\n",
              "          docLink.innerHTML = docLinkHtml;\n",
              "          element.appendChild(docLink);\n",
              "        }\n",
              "      </script>\n",
              "    </div>\n",
              "  </div>\n",
              "  "
            ]
          },
          "metadata": {},
          "execution_count": 174
        }
      ]
    },
    {
      "cell_type": "markdown",
      "source": [
        "#Complete Text Analysis"
      ],
      "metadata": {
        "id": "qqmYy5P3C-8O"
      }
    },
    {
      "cell_type": "code",
      "source": [
        "#Using dataframe to apply functions\n",
        "df1 = pd.DataFrame({'title':url_title,'corpus': corpus})\n",
        "df1[\"URL_ID\"] = df[\"URL_ID\"]\n",
        "df1[\"URL\"] = df[\"URL\"]\n",
        "df1[\"POSITIVE SCORE\"] = df1[\"corpus\"].apply(positive_score)\n",
        "df1[\"NEGATIVE SCORE\"] = df1[\"corpus\"].apply(negative_score)\n",
        "df1[\"POLARITY SCORE\"] = df1[\"corpus\"].apply(polarity_score)\n",
        "df1[\"SUBJECTIVITY SCORE\"] = df1[\"corpus\"].apply(subjectivity_score)\n",
        "df1[\"AVG SENTENCE LENGTH\"] = df1[\"corpus\"].apply(AverageSentenceLength)\n",
        "df1[\"PERCENTAGE OF COMPLEX WORDS\"] = df1[\"corpus\"].apply(percentage_complex_word)\n",
        "df1[\"FOG INDEX\"] = df1[\"corpus\"].apply(fog_index)\n",
        "df1[\"AVG NUMBER OF WORDS PER SENTENCE\"] = df1[\"corpus\"].apply(average_number_of_words_per_sentence)\n",
        "df1[\"COMPLEX WORD COUNT\"] = df1[\"corpus\"].apply(complex_word_count)\n",
        "df1[\"WORD COUNT\"] = df1[\"corpus\"].apply(total_word_count)\n",
        "df1[\"SYLLABLE PER WORD\"] = df1[\"corpus\"].apply(sylabble_count_per_word)\n",
        "df1[\"PERSONAL PRONOUNS\"] = df1[\"corpus\"].apply(personal_pronouns)\n",
        "df1[\"AVG WORD LENGTH\"] = df1[\"corpus\"].apply(avg_word_length)\n",
        "df1.head()\n"
      ],
      "metadata": {
        "id": "V62KwFI8SO2t",
        "colab": {
          "base_uri": "https://localhost:8080/",
          "height": 687
        },
        "outputId": "07c1880a-493b-4077-ee84-fcda9b0441ef"
      },
      "execution_count": 175,
      "outputs": [
        {
          "output_type": "execute_result",
          "data": {
            "text/plain": [
              "                                               title  \\\n",
              "0           is telehealth the future of healthcare 3   \n",
              "1  how telehealth and telemedicine helping people...   \n",
              "2     is telemedicine effective in treating patients   \n",
              "3           is telehealth the future of healthcare 2   \n",
              "4  how people diverted to telehealth services and...   \n",
              "\n",
              "                                              corpus  URL_ID  \\\n",
              "0  Covid-19 has paved the way for advancements in...     1.0   \n",
              "1  The last 2 years are the most critical time in...     2.0   \n",
              "2  Telemedicine, which allows patients and doctor...     3.0   \n",
              "3  Telemedicine refers to a specific set of clini...     4.0   \n",
              "4  The future of telehealth stays positive\\nTo as...     5.0   \n",
              "\n",
              "                                                 URL  POSITIVE SCORE  \\\n",
              "0  https://insights.blackcoffer.com/is-telehealth...              32   \n",
              "1  https://insights.blackcoffer.com/how-telehealt...              36   \n",
              "2  https://insights.blackcoffer.com/is-telemedici...              79   \n",
              "3  https://insights.blackcoffer.com/is-telehealth...              59   \n",
              "4  https://insights.blackcoffer.com/how-people-di...              76   \n",
              "\n",
              "   NEGATIVE SCORE  POLARITY SCORE  SUBJECTIVITY SCORE  AVG SENTENCE LENGTH  \\\n",
              "0               8            0.60                0.11                14.36   \n",
              "1              16            0.38                0.13                 7.41   \n",
              "2              28            0.48                0.12                 9.95   \n",
              "3              22            0.46                0.08                11.36   \n",
              "4              33            0.39                0.12                11.69   \n",
              "\n",
              "   PERCENTAGE OF COMPLEX WORDS  FOG INDEX  AVG NUMBER OF WORDS PER SENTENCE  \\\n",
              "0                         0.50       5.94                             14.36   \n",
              "1                         0.54       3.18                              7.41   \n",
              "2                         0.54       4.20                              9.95   \n",
              "3                         0.52       4.75                             11.36   \n",
              "4                         0.50       4.88                             11.69   \n",
              "\n",
              "   COMPLEX WORD COUNT  WORD COUNT  SYLLABLE PER WORD  PERSONAL PRONOUNS  \\\n",
              "0                 178         359                834                  0   \n",
              "1                 216         400               1014                  0   \n",
              "2                 497         925               2435                  1   \n",
              "3                 517         988               2471                  0   \n",
              "4                 465         935               2375                  1   \n",
              "\n",
              "   AVG WORD LENGTH  \n",
              "0             7.22  \n",
              "1             7.10  \n",
              "2             7.57  \n",
              "3             7.40  \n",
              "4             7.49  "
            ],
            "text/html": [
              "\n",
              "  <div id=\"df-279aca42-a8cf-402c-a327-f4a6a398857c\">\n",
              "    <div class=\"colab-df-container\">\n",
              "      <div>\n",
              "<style scoped>\n",
              "    .dataframe tbody tr th:only-of-type {\n",
              "        vertical-align: middle;\n",
              "    }\n",
              "\n",
              "    .dataframe tbody tr th {\n",
              "        vertical-align: top;\n",
              "    }\n",
              "\n",
              "    .dataframe thead th {\n",
              "        text-align: right;\n",
              "    }\n",
              "</style>\n",
              "<table border=\"1\" class=\"dataframe\">\n",
              "  <thead>\n",
              "    <tr style=\"text-align: right;\">\n",
              "      <th></th>\n",
              "      <th>title</th>\n",
              "      <th>corpus</th>\n",
              "      <th>URL_ID</th>\n",
              "      <th>URL</th>\n",
              "      <th>POSITIVE SCORE</th>\n",
              "      <th>NEGATIVE SCORE</th>\n",
              "      <th>POLARITY SCORE</th>\n",
              "      <th>SUBJECTIVITY SCORE</th>\n",
              "      <th>AVG SENTENCE LENGTH</th>\n",
              "      <th>PERCENTAGE OF COMPLEX WORDS</th>\n",
              "      <th>FOG INDEX</th>\n",
              "      <th>AVG NUMBER OF WORDS PER SENTENCE</th>\n",
              "      <th>COMPLEX WORD COUNT</th>\n",
              "      <th>WORD COUNT</th>\n",
              "      <th>SYLLABLE PER WORD</th>\n",
              "      <th>PERSONAL PRONOUNS</th>\n",
              "      <th>AVG WORD LENGTH</th>\n",
              "    </tr>\n",
              "  </thead>\n",
              "  <tbody>\n",
              "    <tr>\n",
              "      <th>0</th>\n",
              "      <td>is telehealth the future of healthcare 3</td>\n",
              "      <td>Covid-19 has paved the way for advancements in...</td>\n",
              "      <td>1.0</td>\n",
              "      <td>https://insights.blackcoffer.com/is-telehealth...</td>\n",
              "      <td>32</td>\n",
              "      <td>8</td>\n",
              "      <td>0.60</td>\n",
              "      <td>0.11</td>\n",
              "      <td>14.36</td>\n",
              "      <td>0.50</td>\n",
              "      <td>5.94</td>\n",
              "      <td>14.36</td>\n",
              "      <td>178</td>\n",
              "      <td>359</td>\n",
              "      <td>834</td>\n",
              "      <td>0</td>\n",
              "      <td>7.22</td>\n",
              "    </tr>\n",
              "    <tr>\n",
              "      <th>1</th>\n",
              "      <td>how telehealth and telemedicine helping people...</td>\n",
              "      <td>The last 2 years are the most critical time in...</td>\n",
              "      <td>2.0</td>\n",
              "      <td>https://insights.blackcoffer.com/how-telehealt...</td>\n",
              "      <td>36</td>\n",
              "      <td>16</td>\n",
              "      <td>0.38</td>\n",
              "      <td>0.13</td>\n",
              "      <td>7.41</td>\n",
              "      <td>0.54</td>\n",
              "      <td>3.18</td>\n",
              "      <td>7.41</td>\n",
              "      <td>216</td>\n",
              "      <td>400</td>\n",
              "      <td>1014</td>\n",
              "      <td>0</td>\n",
              "      <td>7.10</td>\n",
              "    </tr>\n",
              "    <tr>\n",
              "      <th>2</th>\n",
              "      <td>is telemedicine effective in treating patients</td>\n",
              "      <td>Telemedicine, which allows patients and doctor...</td>\n",
              "      <td>3.0</td>\n",
              "      <td>https://insights.blackcoffer.com/is-telemedici...</td>\n",
              "      <td>79</td>\n",
              "      <td>28</td>\n",
              "      <td>0.48</td>\n",
              "      <td>0.12</td>\n",
              "      <td>9.95</td>\n",
              "      <td>0.54</td>\n",
              "      <td>4.20</td>\n",
              "      <td>9.95</td>\n",
              "      <td>497</td>\n",
              "      <td>925</td>\n",
              "      <td>2435</td>\n",
              "      <td>1</td>\n",
              "      <td>7.57</td>\n",
              "    </tr>\n",
              "    <tr>\n",
              "      <th>3</th>\n",
              "      <td>is telehealth the future of healthcare 2</td>\n",
              "      <td>Telemedicine refers to a specific set of clini...</td>\n",
              "      <td>4.0</td>\n",
              "      <td>https://insights.blackcoffer.com/is-telehealth...</td>\n",
              "      <td>59</td>\n",
              "      <td>22</td>\n",
              "      <td>0.46</td>\n",
              "      <td>0.08</td>\n",
              "      <td>11.36</td>\n",
              "      <td>0.52</td>\n",
              "      <td>4.75</td>\n",
              "      <td>11.36</td>\n",
              "      <td>517</td>\n",
              "      <td>988</td>\n",
              "      <td>2471</td>\n",
              "      <td>0</td>\n",
              "      <td>7.40</td>\n",
              "    </tr>\n",
              "    <tr>\n",
              "      <th>4</th>\n",
              "      <td>how people diverted to telehealth services and...</td>\n",
              "      <td>The future of telehealth stays positive\\nTo as...</td>\n",
              "      <td>5.0</td>\n",
              "      <td>https://insights.blackcoffer.com/how-people-di...</td>\n",
              "      <td>76</td>\n",
              "      <td>33</td>\n",
              "      <td>0.39</td>\n",
              "      <td>0.12</td>\n",
              "      <td>11.69</td>\n",
              "      <td>0.50</td>\n",
              "      <td>4.88</td>\n",
              "      <td>11.69</td>\n",
              "      <td>465</td>\n",
              "      <td>935</td>\n",
              "      <td>2375</td>\n",
              "      <td>1</td>\n",
              "      <td>7.49</td>\n",
              "    </tr>\n",
              "  </tbody>\n",
              "</table>\n",
              "</div>\n",
              "      <button class=\"colab-df-convert\" onclick=\"convertToInteractive('df-279aca42-a8cf-402c-a327-f4a6a398857c')\"\n",
              "              title=\"Convert this dataframe to an interactive table.\"\n",
              "              style=\"display:none;\">\n",
              "        \n",
              "  <svg xmlns=\"http://www.w3.org/2000/svg\" height=\"24px\"viewBox=\"0 0 24 24\"\n",
              "       width=\"24px\">\n",
              "    <path d=\"M0 0h24v24H0V0z\" fill=\"none\"/>\n",
              "    <path d=\"M18.56 5.44l.94 2.06.94-2.06 2.06-.94-2.06-.94-.94-2.06-.94 2.06-2.06.94zm-11 1L8.5 8.5l.94-2.06 2.06-.94-2.06-.94L8.5 2.5l-.94 2.06-2.06.94zm10 10l.94 2.06.94-2.06 2.06-.94-2.06-.94-.94-2.06-.94 2.06-2.06.94z\"/><path d=\"M17.41 7.96l-1.37-1.37c-.4-.4-.92-.59-1.43-.59-.52 0-1.04.2-1.43.59L10.3 9.45l-7.72 7.72c-.78.78-.78 2.05 0 2.83L4 21.41c.39.39.9.59 1.41.59.51 0 1.02-.2 1.41-.59l7.78-7.78 2.81-2.81c.8-.78.8-2.07 0-2.86zM5.41 20L4 18.59l7.72-7.72 1.47 1.35L5.41 20z\"/>\n",
              "  </svg>\n",
              "      </button>\n",
              "      \n",
              "  <style>\n",
              "    .colab-df-container {\n",
              "      display:flex;\n",
              "      flex-wrap:wrap;\n",
              "      gap: 12px;\n",
              "    }\n",
              "\n",
              "    .colab-df-convert {\n",
              "      background-color: #E8F0FE;\n",
              "      border: none;\n",
              "      border-radius: 50%;\n",
              "      cursor: pointer;\n",
              "      display: none;\n",
              "      fill: #1967D2;\n",
              "      height: 32px;\n",
              "      padding: 0 0 0 0;\n",
              "      width: 32px;\n",
              "    }\n",
              "\n",
              "    .colab-df-convert:hover {\n",
              "      background-color: #E2EBFA;\n",
              "      box-shadow: 0px 1px 2px rgba(60, 64, 67, 0.3), 0px 1px 3px 1px rgba(60, 64, 67, 0.15);\n",
              "      fill: #174EA6;\n",
              "    }\n",
              "\n",
              "    [theme=dark] .colab-df-convert {\n",
              "      background-color: #3B4455;\n",
              "      fill: #D2E3FC;\n",
              "    }\n",
              "\n",
              "    [theme=dark] .colab-df-convert:hover {\n",
              "      background-color: #434B5C;\n",
              "      box-shadow: 0px 1px 3px 1px rgba(0, 0, 0, 0.15);\n",
              "      filter: drop-shadow(0px 1px 2px rgba(0, 0, 0, 0.3));\n",
              "      fill: #FFFFFF;\n",
              "    }\n",
              "  </style>\n",
              "\n",
              "      <script>\n",
              "        const buttonEl =\n",
              "          document.querySelector('#df-279aca42-a8cf-402c-a327-f4a6a398857c button.colab-df-convert');\n",
              "        buttonEl.style.display =\n",
              "          google.colab.kernel.accessAllowed ? 'block' : 'none';\n",
              "\n",
              "        async function convertToInteractive(key) {\n",
              "          const element = document.querySelector('#df-279aca42-a8cf-402c-a327-f4a6a398857c');\n",
              "          const dataTable =\n",
              "            await google.colab.kernel.invokeFunction('convertToInteractive',\n",
              "                                                     [key], {});\n",
              "          if (!dataTable) return;\n",
              "\n",
              "          const docLinkHtml = 'Like what you see? Visit the ' +\n",
              "            '<a target=\"_blank\" href=https://colab.research.google.com/notebooks/data_table.ipynb>data table notebook</a>'\n",
              "            + ' to learn more about interactive tables.';\n",
              "          element.innerHTML = '';\n",
              "          dataTable['output_type'] = 'display_data';\n",
              "          await google.colab.output.renderOutput(dataTable, element);\n",
              "          const docLink = document.createElement('div');\n",
              "          docLink.innerHTML = docLinkHtml;\n",
              "          element.appendChild(docLink);\n",
              "        }\n",
              "      </script>\n",
              "    </div>\n",
              "  </div>\n",
              "  "
            ]
          },
          "metadata": {},
          "execution_count": 175
        }
      ]
    },
    {
      "cell_type": "markdown",
      "source": [
        "##Dropping columns to achieve desired output"
      ],
      "metadata": {
        "id": "bRt6fGuBDdO9"
      }
    },
    {
      "cell_type": "code",
      "source": [
        "Finally_done = df1.drop(['title','corpus'],axis = 1)\n",
        "Finally_done.head()"
      ],
      "metadata": {
        "id": "D4U5FTMySO5F",
        "colab": {
          "base_uri": "https://localhost:8080/",
          "height": 426
        },
        "outputId": "699b50c4-c5a9-4fbc-d38b-c5b7a11789da"
      },
      "execution_count": 182,
      "outputs": [
        {
          "output_type": "execute_result",
          "data": {
            "text/plain": [
              "   URL_ID                                                URL  POSITIVE SCORE  \\\n",
              "0     1.0  https://insights.blackcoffer.com/is-telehealth...              32   \n",
              "1     2.0  https://insights.blackcoffer.com/how-telehealt...              36   \n",
              "2     3.0  https://insights.blackcoffer.com/is-telemedici...              79   \n",
              "3     4.0  https://insights.blackcoffer.com/is-telehealth...              59   \n",
              "4     5.0  https://insights.blackcoffer.com/how-people-di...              76   \n",
              "\n",
              "   NEGATIVE SCORE  POLARITY SCORE  SUBJECTIVITY SCORE  AVG SENTENCE LENGTH  \\\n",
              "0               8            0.60                0.11                14.36   \n",
              "1              16            0.38                0.13                 7.41   \n",
              "2              28            0.48                0.12                 9.95   \n",
              "3              22            0.46                0.08                11.36   \n",
              "4              33            0.39                0.12                11.69   \n",
              "\n",
              "   PERCENTAGE OF COMPLEX WORDS  FOG INDEX  AVG NUMBER OF WORDS PER SENTENCE  \\\n",
              "0                         0.50       5.94                             14.36   \n",
              "1                         0.54       3.18                              7.41   \n",
              "2                         0.54       4.20                              9.95   \n",
              "3                         0.52       4.75                             11.36   \n",
              "4                         0.50       4.88                             11.69   \n",
              "\n",
              "   COMPLEX WORD COUNT  WORD COUNT  SYLLABLE PER WORD  PERSONAL PRONOUNS  \\\n",
              "0                 178         359                834                  0   \n",
              "1                 216         400               1014                  0   \n",
              "2                 497         925               2435                  1   \n",
              "3                 517         988               2471                  0   \n",
              "4                 465         935               2375                  1   \n",
              "\n",
              "   AVG WORD LENGTH  \n",
              "0             7.22  \n",
              "1             7.10  \n",
              "2             7.57  \n",
              "3             7.40  \n",
              "4             7.49  "
            ],
            "text/html": [
              "\n",
              "  <div id=\"df-2ccabb74-e95a-43b1-8ea7-1540c15e9791\">\n",
              "    <div class=\"colab-df-container\">\n",
              "      <div>\n",
              "<style scoped>\n",
              "    .dataframe tbody tr th:only-of-type {\n",
              "        vertical-align: middle;\n",
              "    }\n",
              "\n",
              "    .dataframe tbody tr th {\n",
              "        vertical-align: top;\n",
              "    }\n",
              "\n",
              "    .dataframe thead th {\n",
              "        text-align: right;\n",
              "    }\n",
              "</style>\n",
              "<table border=\"1\" class=\"dataframe\">\n",
              "  <thead>\n",
              "    <tr style=\"text-align: right;\">\n",
              "      <th></th>\n",
              "      <th>URL_ID</th>\n",
              "      <th>URL</th>\n",
              "      <th>POSITIVE SCORE</th>\n",
              "      <th>NEGATIVE SCORE</th>\n",
              "      <th>POLARITY SCORE</th>\n",
              "      <th>SUBJECTIVITY SCORE</th>\n",
              "      <th>AVG SENTENCE LENGTH</th>\n",
              "      <th>PERCENTAGE OF COMPLEX WORDS</th>\n",
              "      <th>FOG INDEX</th>\n",
              "      <th>AVG NUMBER OF WORDS PER SENTENCE</th>\n",
              "      <th>COMPLEX WORD COUNT</th>\n",
              "      <th>WORD COUNT</th>\n",
              "      <th>SYLLABLE PER WORD</th>\n",
              "      <th>PERSONAL PRONOUNS</th>\n",
              "      <th>AVG WORD LENGTH</th>\n",
              "    </tr>\n",
              "  </thead>\n",
              "  <tbody>\n",
              "    <tr>\n",
              "      <th>0</th>\n",
              "      <td>1.0</td>\n",
              "      <td>https://insights.blackcoffer.com/is-telehealth...</td>\n",
              "      <td>32</td>\n",
              "      <td>8</td>\n",
              "      <td>0.60</td>\n",
              "      <td>0.11</td>\n",
              "      <td>14.36</td>\n",
              "      <td>0.50</td>\n",
              "      <td>5.94</td>\n",
              "      <td>14.36</td>\n",
              "      <td>178</td>\n",
              "      <td>359</td>\n",
              "      <td>834</td>\n",
              "      <td>0</td>\n",
              "      <td>7.22</td>\n",
              "    </tr>\n",
              "    <tr>\n",
              "      <th>1</th>\n",
              "      <td>2.0</td>\n",
              "      <td>https://insights.blackcoffer.com/how-telehealt...</td>\n",
              "      <td>36</td>\n",
              "      <td>16</td>\n",
              "      <td>0.38</td>\n",
              "      <td>0.13</td>\n",
              "      <td>7.41</td>\n",
              "      <td>0.54</td>\n",
              "      <td>3.18</td>\n",
              "      <td>7.41</td>\n",
              "      <td>216</td>\n",
              "      <td>400</td>\n",
              "      <td>1014</td>\n",
              "      <td>0</td>\n",
              "      <td>7.10</td>\n",
              "    </tr>\n",
              "    <tr>\n",
              "      <th>2</th>\n",
              "      <td>3.0</td>\n",
              "      <td>https://insights.blackcoffer.com/is-telemedici...</td>\n",
              "      <td>79</td>\n",
              "      <td>28</td>\n",
              "      <td>0.48</td>\n",
              "      <td>0.12</td>\n",
              "      <td>9.95</td>\n",
              "      <td>0.54</td>\n",
              "      <td>4.20</td>\n",
              "      <td>9.95</td>\n",
              "      <td>497</td>\n",
              "      <td>925</td>\n",
              "      <td>2435</td>\n",
              "      <td>1</td>\n",
              "      <td>7.57</td>\n",
              "    </tr>\n",
              "    <tr>\n",
              "      <th>3</th>\n",
              "      <td>4.0</td>\n",
              "      <td>https://insights.blackcoffer.com/is-telehealth...</td>\n",
              "      <td>59</td>\n",
              "      <td>22</td>\n",
              "      <td>0.46</td>\n",
              "      <td>0.08</td>\n",
              "      <td>11.36</td>\n",
              "      <td>0.52</td>\n",
              "      <td>4.75</td>\n",
              "      <td>11.36</td>\n",
              "      <td>517</td>\n",
              "      <td>988</td>\n",
              "      <td>2471</td>\n",
              "      <td>0</td>\n",
              "      <td>7.40</td>\n",
              "    </tr>\n",
              "    <tr>\n",
              "      <th>4</th>\n",
              "      <td>5.0</td>\n",
              "      <td>https://insights.blackcoffer.com/how-people-di...</td>\n",
              "      <td>76</td>\n",
              "      <td>33</td>\n",
              "      <td>0.39</td>\n",
              "      <td>0.12</td>\n",
              "      <td>11.69</td>\n",
              "      <td>0.50</td>\n",
              "      <td>4.88</td>\n",
              "      <td>11.69</td>\n",
              "      <td>465</td>\n",
              "      <td>935</td>\n",
              "      <td>2375</td>\n",
              "      <td>1</td>\n",
              "      <td>7.49</td>\n",
              "    </tr>\n",
              "  </tbody>\n",
              "</table>\n",
              "</div>\n",
              "      <button class=\"colab-df-convert\" onclick=\"convertToInteractive('df-2ccabb74-e95a-43b1-8ea7-1540c15e9791')\"\n",
              "              title=\"Convert this dataframe to an interactive table.\"\n",
              "              style=\"display:none;\">\n",
              "        \n",
              "  <svg xmlns=\"http://www.w3.org/2000/svg\" height=\"24px\"viewBox=\"0 0 24 24\"\n",
              "       width=\"24px\">\n",
              "    <path d=\"M0 0h24v24H0V0z\" fill=\"none\"/>\n",
              "    <path d=\"M18.56 5.44l.94 2.06.94-2.06 2.06-.94-2.06-.94-.94-2.06-.94 2.06-2.06.94zm-11 1L8.5 8.5l.94-2.06 2.06-.94-2.06-.94L8.5 2.5l-.94 2.06-2.06.94zm10 10l.94 2.06.94-2.06 2.06-.94-2.06-.94-.94-2.06-.94 2.06-2.06.94z\"/><path d=\"M17.41 7.96l-1.37-1.37c-.4-.4-.92-.59-1.43-.59-.52 0-1.04.2-1.43.59L10.3 9.45l-7.72 7.72c-.78.78-.78 2.05 0 2.83L4 21.41c.39.39.9.59 1.41.59.51 0 1.02-.2 1.41-.59l7.78-7.78 2.81-2.81c.8-.78.8-2.07 0-2.86zM5.41 20L4 18.59l7.72-7.72 1.47 1.35L5.41 20z\"/>\n",
              "  </svg>\n",
              "      </button>\n",
              "      \n",
              "  <style>\n",
              "    .colab-df-container {\n",
              "      display:flex;\n",
              "      flex-wrap:wrap;\n",
              "      gap: 12px;\n",
              "    }\n",
              "\n",
              "    .colab-df-convert {\n",
              "      background-color: #E8F0FE;\n",
              "      border: none;\n",
              "      border-radius: 50%;\n",
              "      cursor: pointer;\n",
              "      display: none;\n",
              "      fill: #1967D2;\n",
              "      height: 32px;\n",
              "      padding: 0 0 0 0;\n",
              "      width: 32px;\n",
              "    }\n",
              "\n",
              "    .colab-df-convert:hover {\n",
              "      background-color: #E2EBFA;\n",
              "      box-shadow: 0px 1px 2px rgba(60, 64, 67, 0.3), 0px 1px 3px 1px rgba(60, 64, 67, 0.15);\n",
              "      fill: #174EA6;\n",
              "    }\n",
              "\n",
              "    [theme=dark] .colab-df-convert {\n",
              "      background-color: #3B4455;\n",
              "      fill: #D2E3FC;\n",
              "    }\n",
              "\n",
              "    [theme=dark] .colab-df-convert:hover {\n",
              "      background-color: #434B5C;\n",
              "      box-shadow: 0px 1px 3px 1px rgba(0, 0, 0, 0.15);\n",
              "      filter: drop-shadow(0px 1px 2px rgba(0, 0, 0, 0.3));\n",
              "      fill: #FFFFFF;\n",
              "    }\n",
              "  </style>\n",
              "\n",
              "      <script>\n",
              "        const buttonEl =\n",
              "          document.querySelector('#df-2ccabb74-e95a-43b1-8ea7-1540c15e9791 button.colab-df-convert');\n",
              "        buttonEl.style.display =\n",
              "          google.colab.kernel.accessAllowed ? 'block' : 'none';\n",
              "\n",
              "        async function convertToInteractive(key) {\n",
              "          const element = document.querySelector('#df-2ccabb74-e95a-43b1-8ea7-1540c15e9791');\n",
              "          const dataTable =\n",
              "            await google.colab.kernel.invokeFunction('convertToInteractive',\n",
              "                                                     [key], {});\n",
              "          if (!dataTable) return;\n",
              "\n",
              "          const docLinkHtml = 'Like what you see? Visit the ' +\n",
              "            '<a target=\"_blank\" href=https://colab.research.google.com/notebooks/data_table.ipynb>data table notebook</a>'\n",
              "            + ' to learn more about interactive tables.';\n",
              "          element.innerHTML = '';\n",
              "          dataTable['output_type'] = 'display_data';\n",
              "          await google.colab.output.renderOutput(dataTable, element);\n",
              "          const docLink = document.createElement('div');\n",
              "          docLink.innerHTML = docLinkHtml;\n",
              "          element.appendChild(docLink);\n",
              "        }\n",
              "      </script>\n",
              "    </div>\n",
              "  </div>\n",
              "  "
            ]
          },
          "metadata": {},
          "execution_count": 182
        }
      ]
    },
    {
      "cell_type": "markdown",
      "source": [
        "#Exporting to an Excel File"
      ],
      "metadata": {
        "id": "BhB8LKI0DYTE"
      }
    },
    {
      "cell_type": "code",
      "source": [
        "Finally_done.to_excel('Filled Output Data Structure.xlsx', encoding='utf-8')"
      ],
      "metadata": {
        "id": "8hZ3D6fbSO9O"
      },
      "execution_count": 183,
      "outputs": []
    },
    {
      "cell_type": "code",
      "source": [
        ""
      ],
      "metadata": {
        "id": "vfC-9gHlDm5X"
      },
      "execution_count": null,
      "outputs": []
    },
    {
      "cell_type": "code",
      "source": [
        ""
      ],
      "metadata": {
        "id": "6gYn20zGDm88"
      },
      "execution_count": null,
      "outputs": []
    },
    {
      "cell_type": "code",
      "source": [
        ""
      ],
      "metadata": {
        "id": "ZxARXZteDnAX"
      },
      "execution_count": null,
      "outputs": []
    }
  ]
}